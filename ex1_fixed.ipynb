{
 "cells": [
  {
   "cell_type": "markdown",
   "id": "ad732c66",
   "metadata": {
    "slideshow": {
     "slide_type": "slide"
    }
   },
   "source": [
    "# Titanic dataset"
   ]
  },
  {
   "cell_type": "markdown",
   "id": "742e4182",
   "metadata": {},
   "source": [
    "This assigment consists of the introductory problem [Titanic: Machine Learning from Disaster](https://www.kaggle.com/c/titanic). The goal is to train a classifier to predict persons that have survived the disaster. "
   ]
  },
  {
   "cell_type": "markdown",
   "id": "57cf5aef",
   "metadata": {},
   "source": [
    "We will start by reading in the, by now standard, Titanic dataset. It contains information about passengers of the Titanic. The information includes i.a. sex, age, name  and passenger class as well as information if the passenger survived or died in the disaster. You can find more details about this data set [here](http://campus.lakeforest.edu/frank/FILES/MLFfiles/Bio150/Titanic/TitanicMETA.pdf). "
   ]
  },
  {
   "cell_type": "markdown",
   "id": "2ed2693d",
   "metadata": {},
   "source": [
    "The data  is in \"coma separated values\" (csv) format and to read it we will use the [pandas](https://pandas.pydata.org) library. Pandas  provides tools for manipulating  data frames and series and is wildly used in data science projects. \n",
    "\n",
    "Please note that this is NOT a pandas manual. For detailed explanation of the concepts and functions used here you should consult the [documentation](https://pandas.pydata.org/pandas-docs/stable/getting_started/index.html). "
   ]
  },
  {
   "cell_type": "code",
   "execution_count": 222,
   "id": "f1d050cd",
   "metadata": {},
   "outputs": [],
   "source": [
    "import numpy as np\n",
    "import matplotlib.pyplot as plt\n",
    "import pandas as pd"
   ]
  },
  {
   "cell_type": "code",
   "execution_count": 223,
   "id": "3ed34f5a",
   "metadata": {},
   "outputs": [],
   "source": [
    "data_all = pd.read_csv(\"titanic3.csv\")"
   ]
  },
  {
   "cell_type": "markdown",
   "id": "4f1e49d0",
   "metadata": {},
   "source": [
    "`data_all` is a pandas  [_DataFrame_](https://pandas.pydata.org/pandas-docs/stable/reference/api/pandas.DataFrame.html) object. "
   ]
  },
  {
   "cell_type": "code",
   "execution_count": 224,
   "id": "0d082293",
   "metadata": {},
   "outputs": [
    {
     "data": {
      "text/plain": [
       "pandas.core.frame.DataFrame"
      ]
     },
     "execution_count": 224,
     "metadata": {},
     "output_type": "execute_result"
    }
   ],
   "source": [
    "type(data_all)"
   ]
  },
  {
   "cell_type": "markdown",
   "id": "5e9e163c",
   "metadata": {},
   "source": [
    "We can check what attributes are stored in the DataFrame by listing the column names:"
   ]
  },
  {
   "cell_type": "code",
   "execution_count": 225,
   "id": "cefab611",
   "metadata": {},
   "outputs": [
    {
     "data": {
      "text/plain": [
       "Index(['Unnamed: 0', 'pclass', 'survived', 'name', 'sex', 'age', 'sibsp',\n",
       "       'parch', 'ticket', 'fare', 'cabin', 'embarked', 'boat', 'body',\n",
       "       'home.dest'],\n",
       "      dtype='object')"
      ]
     },
     "execution_count": 225,
     "metadata": {},
     "output_type": "execute_result"
    }
   ],
   "source": [
    "data_all.columns"
   ]
  },
  {
   "cell_type": "markdown",
   "id": "08b41597",
   "metadata": {},
   "source": [
    "or get a quick preview using ```head``` function: "
   ]
  },
  {
   "cell_type": "code",
   "execution_count": 226,
   "id": "48b1178f",
   "metadata": {},
   "outputs": [
    {
     "data": {
      "text/html": [
       "<div>\n",
       "<style scoped>\n",
       "    .dataframe tbody tr th:only-of-type {\n",
       "        vertical-align: middle;\n",
       "    }\n",
       "\n",
       "    .dataframe tbody tr th {\n",
       "        vertical-align: top;\n",
       "    }\n",
       "\n",
       "    .dataframe thead th {\n",
       "        text-align: right;\n",
       "    }\n",
       "</style>\n",
       "<table border=\"1\" class=\"dataframe\">\n",
       "  <thead>\n",
       "    <tr style=\"text-align: right;\">\n",
       "      <th></th>\n",
       "      <th>Unnamed: 0</th>\n",
       "      <th>pclass</th>\n",
       "      <th>survived</th>\n",
       "      <th>name</th>\n",
       "      <th>sex</th>\n",
       "      <th>age</th>\n",
       "      <th>sibsp</th>\n",
       "      <th>parch</th>\n",
       "      <th>ticket</th>\n",
       "      <th>fare</th>\n",
       "      <th>cabin</th>\n",
       "      <th>embarked</th>\n",
       "      <th>boat</th>\n",
       "      <th>body</th>\n",
       "      <th>home.dest</th>\n",
       "    </tr>\n",
       "  </thead>\n",
       "  <tbody>\n",
       "    <tr>\n",
       "      <th>0</th>\n",
       "      <td>0</td>\n",
       "      <td>1</td>\n",
       "      <td>1</td>\n",
       "      <td>Allen, Miss. Elisabeth Walton</td>\n",
       "      <td>female</td>\n",
       "      <td>29.0000</td>\n",
       "      <td>0</td>\n",
       "      <td>0</td>\n",
       "      <td>24160</td>\n",
       "      <td>211.3375</td>\n",
       "      <td>B5</td>\n",
       "      <td>S</td>\n",
       "      <td>2</td>\n",
       "      <td>NaN</td>\n",
       "      <td>St Louis, MO</td>\n",
       "    </tr>\n",
       "    <tr>\n",
       "      <th>1</th>\n",
       "      <td>1</td>\n",
       "      <td>1</td>\n",
       "      <td>1</td>\n",
       "      <td>Allison, Master. Hudson Trevor</td>\n",
       "      <td>male</td>\n",
       "      <td>0.9167</td>\n",
       "      <td>1</td>\n",
       "      <td>2</td>\n",
       "      <td>113781</td>\n",
       "      <td>151.5500</td>\n",
       "      <td>C22 C26</td>\n",
       "      <td>S</td>\n",
       "      <td>11</td>\n",
       "      <td>NaN</td>\n",
       "      <td>Montreal, PQ / Chesterville, ON</td>\n",
       "    </tr>\n",
       "  </tbody>\n",
       "</table>\n",
       "</div>"
      ],
      "text/plain": [
       "   Unnamed: 0  pclass  survived                            name     sex  \\\n",
       "0           0       1         1   Allen, Miss. Elisabeth Walton  female   \n",
       "1           1       1         1  Allison, Master. Hudson Trevor    male   \n",
       "\n",
       "       age  sibsp  parch  ticket      fare    cabin embarked boat  body  \\\n",
       "0  29.0000      0      0   24160  211.3375       B5        S    2   NaN   \n",
       "1   0.9167      1      2  113781  151.5500  C22 C26        S   11   NaN   \n",
       "\n",
       "                         home.dest  \n",
       "0                     St Louis, MO  \n",
       "1  Montreal, PQ / Chesterville, ON  "
      ]
     },
     "execution_count": 226,
     "metadata": {},
     "output_type": "execute_result"
    }
   ],
   "source": [
    "data_all.head(2)"
   ]
  },
  {
   "cell_type": "markdown",
   "id": "bc12f1e2",
   "metadata": {},
   "source": [
    "For the description of those features please see the before mentioned [link](http://campus.lakeforest.edu/frank/FILES/MLFfiles/Bio150/Titanic/TitanicMETA.pdf). "
   ]
  },
  {
   "cell_type": "markdown",
   "id": "2548138c",
   "metadata": {},
   "source": [
    "Another usefull function is ```info```:"
   ]
  },
  {
   "cell_type": "code",
   "execution_count": 227,
   "id": "a78468d3",
   "metadata": {},
   "outputs": [
    {
     "name": "stdout",
     "output_type": "stream",
     "text": [
      "<class 'pandas.core.frame.DataFrame'>\n",
      "RangeIndex: 1309 entries, 0 to 1308\n",
      "Data columns (total 15 columns):\n",
      " #   Column      Non-Null Count  Dtype  \n",
      "---  ------      --------------  -----  \n",
      " 0   Unnamed: 0  1309 non-null   int64  \n",
      " 1   pclass      1309 non-null   int64  \n",
      " 2   survived    1309 non-null   int64  \n",
      " 3   name        1309 non-null   object \n",
      " 4   sex         1309 non-null   object \n",
      " 5   age         1046 non-null   float64\n",
      " 6   sibsp       1309 non-null   int64  \n",
      " 7   parch       1309 non-null   int64  \n",
      " 8   ticket      1309 non-null   object \n",
      " 9   fare        1308 non-null   float64\n",
      " 10  cabin       295 non-null    object \n",
      " 11  embarked    1307 non-null   object \n",
      " 12  boat        486 non-null    object \n",
      " 13  body        121 non-null    float64\n",
      " 14  home.dest   745 non-null    object \n",
      "dtypes: float64(3), int64(5), object(7)\n",
      "memory usage: 153.5+ KB\n"
     ]
    }
   ],
   "source": [
    "data_all.info()"
   ]
  },
  {
   "cell_type": "markdown",
   "id": "f327869f",
   "metadata": {},
   "source": [
    "As we can see not all attributes are known (non-null) for every passanger. This is a frequent situation in real datasets. "
   ]
  },
  {
   "cell_type": "code",
   "execution_count": 228,
   "id": "b6599b58",
   "metadata": {},
   "outputs": [
    {
     "data": {
      "text/plain": [
       "0    0.618029\n",
       "1    0.381971\n",
       "Name: survived, dtype: float64"
      ]
     },
     "execution_count": 228,
     "metadata": {},
     "output_type": "execute_result"
    }
   ],
   "source": [
    "data_all.survived.value_counts()/len(data_all)"
   ]
  },
  {
   "cell_type": "markdown",
   "id": "f06011f9-baff-4ecb-92a7-f9634036e0a1",
   "metadata": {},
   "source": [
    "### Train/test split"
   ]
  },
  {
   "cell_type": "markdown",
   "id": "5175f694",
   "metadata": {},
   "source": [
    "As in every machine learning problem we should split our data into training and testing sets."
   ]
  },
  {
   "cell_type": "code",
   "execution_count": 229,
   "id": "71cf2469",
   "metadata": {},
   "outputs": [],
   "source": [
    "from sklearn.model_selection import train_test_split"
   ]
  },
  {
   "cell_type": "code",
   "execution_count": 230,
   "id": "52d76cbc",
   "metadata": {},
   "outputs": [],
   "source": [
    "seed =5657\n",
    "data, test_data = train_test_split(data_all, train_size=0.8, stratify=data_all.survived, random_state=seed)"
   ]
  },
  {
   "cell_type": "code",
   "execution_count": 231,
   "id": "965cbe42",
   "metadata": {},
   "outputs": [
    {
     "name": "stdout",
     "output_type": "stream",
     "text": [
      "<class 'pandas.core.frame.DataFrame'>\n",
      "Int64Index: 1047 entries, 207 to 1206\n",
      "Data columns (total 15 columns):\n",
      " #   Column      Non-Null Count  Dtype  \n",
      "---  ------      --------------  -----  \n",
      " 0   Unnamed: 0  1047 non-null   int64  \n",
      " 1   pclass      1047 non-null   int64  \n",
      " 2   survived    1047 non-null   int64  \n",
      " 3   name        1047 non-null   object \n",
      " 4   sex         1047 non-null   object \n",
      " 5   age         845 non-null    float64\n",
      " 6   sibsp       1047 non-null   int64  \n",
      " 7   parch       1047 non-null   int64  \n",
      " 8   ticket      1047 non-null   object \n",
      " 9   fare        1046 non-null   float64\n",
      " 10  cabin       242 non-null    object \n",
      " 11  embarked    1045 non-null   object \n",
      " 12  boat        389 non-null    object \n",
      " 13  body        92 non-null     float64\n",
      " 14  home.dest   608 non-null    object \n",
      "dtypes: float64(3), int64(5), object(7)\n",
      "memory usage: 130.9+ KB\n"
     ]
    }
   ],
   "source": [
    "data.info()"
   ]
  },
  {
   "cell_type": "code",
   "execution_count": 232,
   "id": "03d50d78",
   "metadata": {},
   "outputs": [
    {
     "data": {
      "text/plain": [
       "0    0.617956\n",
       "1    0.382044\n",
       "Name: survived, dtype: float64"
      ]
     },
     "execution_count": 232,
     "metadata": {},
     "output_type": "execute_result"
    }
   ],
   "source": [
    "data.survived.value_counts()/len(data)"
   ]
  },
  {
   "cell_type": "code",
   "execution_count": 233,
   "id": "34d58300",
   "metadata": {},
   "outputs": [
    {
     "data": {
      "text/plain": [
       "0    0.618321\n",
       "1    0.381679\n",
       "Name: survived, dtype: float64"
      ]
     },
     "execution_count": 233,
     "metadata": {},
     "output_type": "execute_result"
    }
   ],
   "source": [
    "test_data.survived.value_counts()/len(test_data)"
   ]
  },
  {
   "cell_type": "markdown",
   "id": "c8404d10",
   "metadata": {},
   "source": [
    "## Problem 1"
   ]
  },
  {
   "cell_type": "markdown",
   "id": "357d23d4",
   "metadata": {},
   "source": [
    "__a) Implement a Bayes classifier for predicting passenger survival  using sex and pclass  features.__"
   ]
  },
  {
   "cell_type": "markdown",
   "id": "b3d0c016",
   "metadata": {},
   "source": [
    "Actually this problem will be solved for you below to serve as an tutorial on pandas :) "
   ]
  },
  {
   "cell_type": "markdown",
   "id": "870806d4",
   "metadata": {},
   "source": [
    "#### Preliminaries"
   ]
  },
  {
   "cell_type": "markdown",
   "id": "04ffcfec",
   "metadata": {},
   "source": [
    "We will start by extracting from the frame  only the information we need:"
   ]
  },
  {
   "cell_type": "code",
   "execution_count": 234,
   "id": "fa40080f",
   "metadata": {},
   "outputs": [],
   "source": [
    "data_selected = data[['pclass', 'sex', 'survived']]"
   ]
  },
  {
   "cell_type": "code",
   "execution_count": 235,
   "id": "f52cc860",
   "metadata": {},
   "outputs": [
    {
     "name": "stdout",
     "output_type": "stream",
     "text": [
      "<class 'pandas.core.frame.DataFrame'>\n",
      "Int64Index: 1047 entries, 207 to 1206\n",
      "Data columns (total 3 columns):\n",
      " #   Column    Non-Null Count  Dtype \n",
      "---  ------    --------------  ----- \n",
      " 0   pclass    1047 non-null   int64 \n",
      " 1   sex       1047 non-null   object\n",
      " 2   survived  1047 non-null   int64 \n",
      "dtypes: int64(2), object(1)\n",
      "memory usage: 32.7+ KB\n"
     ]
    }
   ],
   "source": [
    "data_selected.info()"
   ]
  },
  {
   "cell_type": "code",
   "execution_count": 236,
   "id": "1a289963",
   "metadata": {},
   "outputs": [
    {
     "data": {
      "text/html": [
       "<div>\n",
       "<style scoped>\n",
       "    .dataframe tbody tr th:only-of-type {\n",
       "        vertical-align: middle;\n",
       "    }\n",
       "\n",
       "    .dataframe tbody tr th {\n",
       "        vertical-align: top;\n",
       "    }\n",
       "\n",
       "    .dataframe thead th {\n",
       "        text-align: right;\n",
       "    }\n",
       "</style>\n",
       "<table border=\"1\" class=\"dataframe\">\n",
       "  <thead>\n",
       "    <tr style=\"text-align: right;\">\n",
       "      <th></th>\n",
       "      <th>pclass</th>\n",
       "      <th>sex</th>\n",
       "      <th>survived</th>\n",
       "    </tr>\n",
       "  </thead>\n",
       "  <tbody>\n",
       "    <tr>\n",
       "      <th>207</th>\n",
       "      <td>1</td>\n",
       "      <td>female</td>\n",
       "      <td>1</td>\n",
       "    </tr>\n",
       "    <tr>\n",
       "      <th>363</th>\n",
       "      <td>2</td>\n",
       "      <td>male</td>\n",
       "      <td>0</td>\n",
       "    </tr>\n",
       "    <tr>\n",
       "      <th>966</th>\n",
       "      <td>3</td>\n",
       "      <td>female</td>\n",
       "      <td>0</td>\n",
       "    </tr>\n",
       "    <tr>\n",
       "      <th>1292</th>\n",
       "      <td>3</td>\n",
       "      <td>male</td>\n",
       "      <td>0</td>\n",
       "    </tr>\n",
       "    <tr>\n",
       "      <th>118</th>\n",
       "      <td>1</td>\n",
       "      <td>male</td>\n",
       "      <td>0</td>\n",
       "    </tr>\n",
       "  </tbody>\n",
       "</table>\n",
       "</div>"
      ],
      "text/plain": [
       "      pclass     sex  survived\n",
       "207        1  female         1\n",
       "363        2    male         0\n",
       "966        3  female         0\n",
       "1292       3    male         0\n",
       "118        1    male         0"
      ]
     },
     "execution_count": 236,
     "metadata": {},
     "output_type": "execute_result"
    }
   ],
   "source": [
    "data_selected.head(5)"
   ]
  },
  {
   "cell_type": "markdown",
   "id": "a9b604c1",
   "metadata": {},
   "source": [
    "First we need to group passengers according to sex, class and survival status. This can be achieved using  the [`groupby`](https://pandas.pydata.org/pandas-docs/stable/reference/api/pandas.DataFrame.groupby.html) function:"
   ]
  },
  {
   "cell_type": "code",
   "execution_count": 237,
   "id": "cfcae585",
   "metadata": {},
   "outputs": [],
   "source": [
    "grouped = data_selected.groupby(['survived','sex','pclass'])"
   ]
  },
  {
   "cell_type": "markdown",
   "id": "9ba56ef2",
   "metadata": {},
   "source": [
    "We can count the number of passegers in each group using function ```size```:"
   ]
  },
  {
   "cell_type": "code",
   "execution_count": 238,
   "id": "7ae628c2",
   "metadata": {},
   "outputs": [],
   "source": [
    "counts = grouped.size()"
   ]
  },
  {
   "cell_type": "markdown",
   "id": "7e31c4ca",
   "metadata": {},
   "source": [
    "Object ```counts``` contains all the information that we need to construct the classifier:"
   ]
  },
  {
   "cell_type": "code",
   "execution_count": 239,
   "id": "9b696724",
   "metadata": {},
   "outputs": [
    {
     "data": {
      "text/plain": [
       "survived  sex     pclass\n",
       "0         female  1           3\n",
       "                  2          10\n",
       "                  3          81\n",
       "          male    1          95\n",
       "                  2         125\n",
       "                  3         333\n",
       "1         female  1         120\n",
       "                  2          72\n",
       "                  3          85\n",
       "          male    1          45\n",
       "                  2          17\n",
       "                  3          61\n",
       "dtype: int64"
      ]
     },
     "execution_count": 239,
     "metadata": {},
     "output_type": "execute_result"
    }
   ],
   "source": [
    "counts"
   ]
  },
  {
   "cell_type": "markdown",
   "id": "56508966",
   "metadata": {},
   "source": [
    "`counts` is a pandas [_Series_](https://pandas.pydata.org/pandas-docs/stable/reference/api/pandas.Series.html) object indexed by a [_MultiIndex_](https://pandas.pydata.org/pandas-docs/stable/user_guide/advanced.html#advanced-hierarchical)."
   ]
  },
  {
   "cell_type": "code",
   "execution_count": 240,
   "id": "bbbc10a5",
   "metadata": {},
   "outputs": [
    {
     "data": {
      "text/plain": [
       "MultiIndex([(0, 'female', 1),\n",
       "            (0, 'female', 2),\n",
       "            (0, 'female', 3),\n",
       "            (0,   'male', 1),\n",
       "            (0,   'male', 2),\n",
       "            (0,   'male', 3),\n",
       "            (1, 'female', 1),\n",
       "            (1, 'female', 2),\n",
       "            (1, 'female', 3),\n",
       "            (1,   'male', 1),\n",
       "            (1,   'male', 2),\n",
       "            (1,   'male', 3)],\n",
       "           names=['survived', 'sex', 'pclass'])"
      ]
     },
     "execution_count": 240,
     "metadata": {},
     "output_type": "execute_result"
    }
   ],
   "source": [
    "counts.index"
   ]
  },
  {
   "cell_type": "markdown",
   "id": "4b9ae414",
   "metadata": {},
   "source": [
    "We can treat a multi-indexed series as an multi-dimensional table with each level of the index corresponding to one dimension. You can index `counts` to obtain information on specified entry: "
   ]
  },
  {
   "cell_type": "code",
   "execution_count": 241,
   "id": "48bdb4b6",
   "metadata": {},
   "outputs": [
    {
     "data": {
      "text/plain": [
       "72"
      ]
     },
     "execution_count": 241,
     "metadata": {},
     "output_type": "execute_result"
    }
   ],
   "source": [
    "counts[1,'female',2]"
   ]
  },
  {
   "cell_type": "markdown",
   "id": "b91aca16",
   "metadata": {},
   "source": [
    "The index is hierarchical, if we do not provide all indices, a subset of elements will be returned e.g. "
   ]
  },
  {
   "cell_type": "code",
   "execution_count": 242,
   "id": "fc786407",
   "metadata": {},
   "outputs": [
    {
     "data": {
      "text/plain": [
       "pclass\n",
       "1    120\n",
       "2     72\n",
       "3     85\n",
       "dtype: int64"
      ]
     },
     "execution_count": 242,
     "metadata": {},
     "output_type": "execute_result"
    }
   ],
   "source": [
    "counts[1,'female']"
   ]
  },
  {
   "cell_type": "markdown",
   "id": "29dbfb49",
   "metadata": {},
   "source": [
    "list the number of male surviving women  in each class. Similarly "
   ]
  },
  {
   "cell_type": "code",
   "execution_count": 243,
   "id": "85b5a217",
   "metadata": {},
   "outputs": [
    {
     "data": {
      "text/plain": [
       "sex     pclass\n",
       "female  1         120\n",
       "        2          72\n",
       "        3          85\n",
       "male    1          45\n",
       "        2          17\n",
       "        3          61\n",
       "dtype: int64"
      ]
     },
     "execution_count": 243,
     "metadata": {},
     "output_type": "execute_result"
    }
   ],
   "source": [
    "counts[1]"
   ]
  },
  {
   "cell_type": "markdown",
   "id": "76c9b481",
   "metadata": {},
   "source": [
    "lists the number of survivors for each sex and class."
   ]
  },
  {
   "cell_type": "markdown",
   "id": "0e2eaa63",
   "metadata": {},
   "source": [
    "It is however better to use the `loc` function. With this function we can also use the _slicing_ notation. For example "
   ]
  },
  {
   "cell_type": "code",
   "execution_count": 244,
   "id": "bff6f563",
   "metadata": {},
   "outputs": [
    {
     "data": {
      "text/plain": [
       "survived  sex     pclass\n",
       "0         female  3          81\n",
       "          male    3         333\n",
       "dtype: int64"
      ]
     },
     "execution_count": 244,
     "metadata": {},
     "output_type": "execute_result"
    }
   ],
   "source": [
    "counts.loc[0, :,3]"
   ]
  },
  {
   "cell_type": "markdown",
   "id": "5ca3a0f5",
   "metadata": {},
   "source": [
    "list non-survivors in third class  regardless of sex. "
   ]
  },
  {
   "cell_type": "markdown",
   "id": "7885e3af",
   "metadata": {},
   "source": [
    "Both `[]` and `loc[]` can  also take a _tuple_ as an argument: "
   ]
  },
  {
   "cell_type": "code",
   "execution_count": 245,
   "id": "235e7f81",
   "metadata": {},
   "outputs": [
    {
     "data": {
      "text/plain": [
       "81"
      ]
     },
     "execution_count": 245,
     "metadata": {},
     "output_type": "execute_result"
    }
   ],
   "source": [
    "counts.loc[(0, 'female',3)]"
   ]
  },
  {
   "cell_type": "markdown",
   "id": "c35f4b46",
   "metadata": {},
   "source": [
    "but the use of slice notation in tuple is not permitted. You can use it by providing an explicit _slice_ object "
   ]
  },
  {
   "cell_type": "code",
   "execution_count": 246,
   "id": "221358f0",
   "metadata": {},
   "outputs": [
    {
     "data": {
      "text/plain": [
       "survived  sex     pclass\n",
       "0         female  3          81\n",
       "          male    3         333\n",
       "dtype: int64"
      ]
     },
     "execution_count": 246,
     "metadata": {},
     "output_type": "execute_result"
    }
   ],
   "source": [
    "counts.loc[(0, slice(None),3)]"
   ]
  },
  {
   "cell_type": "markdown",
   "id": "89e8bb66",
   "metadata": {},
   "source": [
    "Function `sum`  as expected returns the sum of all the entries of the series"
   ]
  },
  {
   "cell_type": "code",
   "execution_count": 247,
   "id": "f1e5ebba",
   "metadata": {},
   "outputs": [
    {
     "name": "stdout",
     "output_type": "stream",
     "text": [
      "1047 400 647\n",
      "True\n"
     ]
    }
   ],
   "source": [
    "n_passengers = counts.sum()\n",
    "n_survivors = counts[1].sum()\n",
    "n_dead = counts[0].sum()\n",
    "\n",
    "print(n_passengers, n_survivors, n_dead)\n",
    "print(n_survivors+n_dead==n_passengers)"
   ]
  },
  {
   "cell_type": "markdown",
   "id": "1ea43eb5",
   "metadata": {},
   "source": [
    "### Classifier"
   ]
  },
  {
   "cell_type": "markdown",
   "id": "0ab469d9",
   "metadata": {},
   "source": [
    "To implement classifier we need to calculate the conditional probability of survival given sex and class:"
   ]
  },
  {
   "cell_type": "markdown",
   "id": "682f8ed5",
   "metadata": {},
   "source": [
    "$$P(survived|sex, pclass)$$"
   ]
  },
  {
   "cell_type": "markdown",
   "id": "5d787340",
   "metadata": {},
   "source": [
    "$survived$ here is the label taht can take two values 0 for dead and 1 fro survivors, but we can  calculate only the survival probability because of the realation"
   ]
  },
  {
   "cell_type": "markdown",
   "id": "7b59e8cc",
   "metadata": {},
   "source": [
    "$$P(survived=1|sex, pclass)+P(survived=0|sex, pclass)=1$$"
   ]
  },
  {
   "cell_type": "markdown",
   "id": "22f002ff",
   "metadata": {},
   "source": [
    "We can use the Bayes theorem but it will be actually quicker to calculate it directly from the definition:"
   ]
  },
  {
   "cell_type": "markdown",
   "id": "d5fdc5cf",
   "metadata": {},
   "source": [
    "$$P(survived|sex, pclass)=\\frac{P(survived,sex, pclass)}{P(sex, pclass)}\n",
    "\\approx \\frac{\\#(survived,sex, pclass)}{\\#(sex,pclass)}$$"
   ]
  },
  {
   "cell_type": "markdown",
   "id": "027defd4",
   "metadata": {},
   "source": [
    "where by $\\#$ I have denoted the number of passengers with given attributes. For example the probability of survival for a women traveling in second class is: "
   ]
  },
  {
   "cell_type": "markdown",
   "id": "5edb7abe",
   "metadata": {},
   "source": [
    "$$\\frac{\\text{number of women in second class that survived}}{\\text{number of women in second class}}$$"
   ]
  },
  {
   "cell_type": "markdown",
   "id": "c66e9da1",
   "metadata": {},
   "source": [
    "which we can calculate as"
   ]
  },
  {
   "cell_type": "code",
   "execution_count": 248,
   "id": "54aa404c",
   "metadata": {},
   "outputs": [
    {
     "data": {
      "text/plain": [
       "0.8780487804878049"
      ]
     },
     "execution_count": 248,
     "metadata": {},
     "output_type": "execute_result"
    }
   ],
   "source": [
    "counts[(1,'female',2)]/(counts[(1,'female',2)]+counts[(0,'female',2)])"
   ]
  },
  {
   "cell_type": "markdown",
   "id": "10ed9e9b",
   "metadata": {},
   "source": [
    "This operation has to be repeated for every sex and class combination. We do not have to do it index by index. Pandas have overloaded arithmetic operations that work  on all indices at once e.g. "
   ]
  },
  {
   "cell_type": "code",
   "execution_count": 249,
   "id": "7472b62b",
   "metadata": {},
   "outputs": [],
   "source": [
    "p_sex_class = counts.loc[0]+counts.loc[1]"
   ]
  },
  {
   "cell_type": "markdown",
   "id": "1b34e334",
   "metadata": {},
   "source": [
    "creates a series with number of passengers of each gender and class"
   ]
  },
  {
   "cell_type": "code",
   "execution_count": 250,
   "id": "b79feef6",
   "metadata": {},
   "outputs": [
    {
     "data": {
      "text/plain": [
       "sex     pclass\n",
       "female  1         123\n",
       "        2          82\n",
       "        3         166\n",
       "male    1         140\n",
       "        2         142\n",
       "        3         394\n",
       "dtype: int64"
      ]
     },
     "execution_count": 250,
     "metadata": {},
     "output_type": "execute_result"
    }
   ],
   "source": [
    "p_sex_class"
   ]
  },
  {
   "cell_type": "markdown",
   "id": "91642a23",
   "metadata": {},
   "source": [
    "Same effect can be achieved by passing `level` argument to the series `sum` function. The level argument lists the levels which are __not__ summed over. In other words those are the levels left after summation. To sum over the `survived` level we use"
   ]
  },
  {
   "cell_type": "code",
   "execution_count": 251,
   "id": "2d177058",
   "metadata": {
    "tags": []
   },
   "outputs": [],
   "source": [
    "p_sex_class = counts.sum(level=['sex','pclass'])\n",
    "p_surv_cond_sex_pclass = (counts/p_sex_class)\n",
    "p_surv_cond_sex_pclass = p_surv_cond_sex_pclass.reorder_levels(['survived','sex','pclass']).sort_index()"
   ]
  },
  {
   "cell_type": "code",
   "execution_count": 252,
   "id": "a8e5cc65",
   "metadata": {
    "tags": []
   },
   "outputs": [
    {
     "data": {
      "text/plain": [
       "survived  sex     pclass\n",
       "0         female  1         0.024390\n",
       "                  2         0.121951\n",
       "                  3         0.487952\n",
       "          male    1         0.678571\n",
       "                  2         0.880282\n",
       "                  3         0.845178\n",
       "1         female  1         0.975610\n",
       "                  2         0.878049\n",
       "                  3         0.512048\n",
       "          male    1         0.321429\n",
       "                  2         0.119718\n",
       "                  3         0.154822\n",
       "dtype: float64"
      ]
     },
     "execution_count": 252,
     "metadata": {},
     "output_type": "execute_result"
    }
   ],
   "source": [
    "p_surv_cond_sex_pclass "
   ]
  },
  {
   "cell_type": "markdown",
   "id": "8a62f0db",
   "metadata": {
    "tags": []
   },
   "source": [
    "In the above expression we have used a very useful feature of pandas series. When performing an arithmetic operation  the elements of the series are _joined_ based on the common index levels.  "
   ]
  },
  {
   "cell_type": "markdown",
   "id": "c1a9dab6",
   "metadata": {
    "tags": []
   },
   "source": [
    "`counts` have three levels of index"
   ]
  },
  {
   "cell_type": "code",
   "execution_count": 253,
   "id": "bdae7ef7",
   "metadata": {
    "tags": []
   },
   "outputs": [
    {
     "data": {
      "text/plain": [
       "FrozenList(['survived', 'sex', 'pclass'])"
      ]
     },
     "execution_count": 253,
     "metadata": {},
     "output_type": "execute_result"
    }
   ],
   "source": [
    "counts.index.names"
   ]
  },
  {
   "cell_type": "code",
   "execution_count": 254,
   "id": "73ddedb1",
   "metadata": {
    "tags": []
   },
   "outputs": [
    {
     "data": {
      "text/plain": [
       "FrozenList(['sex', 'pclass'])"
      ]
     },
     "execution_count": 254,
     "metadata": {},
     "output_type": "execute_result"
    }
   ],
   "source": [
    "p_sex_class.index.names"
   ]
  },
  {
   "cell_type": "code",
   "execution_count": 255,
   "id": "31d080b7",
   "metadata": {
    "tags": []
   },
   "outputs": [],
   "source": [
    "p_surv_cond_sex_pclass = pd.Series(0,index=counts.index)\n",
    "for survived, sex, pclass in counts.index: \n",
    "    p = counts.loc[survived, sex, pclass]/p_sex_class.loc[sex, pclass]\n",
    "    p_surv_cond_sex_pclass.loc[(survived, sex, pclass)] = p"
   ]
  },
  {
   "cell_type": "markdown",
   "id": "ad038dec",
   "metadata": {
    "tags": []
   },
   "source": [
    "Unfortunatelly this join operation also reorders the levels of the multi index so we have to order them back using `reorder_levels` and `sort_index` function."
   ]
  },
  {
   "cell_type": "markdown",
   "id": "c60a0c5e",
   "metadata": {},
   "source": [
    "We can check that we indeed get the identical values"
   ]
  },
  {
   "cell_type": "code",
   "execution_count": 256,
   "id": "27fba5b2",
   "metadata": {
    "tags": []
   },
   "outputs": [
    {
     "data": {
      "text/plain": [
       "sex     pclass\n",
       "female  1         1.0\n",
       "        2         1.0\n",
       "        3         1.0\n",
       "male    1         1.0\n",
       "        2         1.0\n",
       "        3         1.0\n",
       "dtype: float64"
      ]
     },
     "execution_count": 256,
     "metadata": {},
     "output_type": "execute_result"
    }
   ],
   "source": [
    "p_surv_cond_sex_pclass.sum(level=['sex', 'pclass'])"
   ]
  },
  {
   "cell_type": "markdown",
   "id": "04ef0734",
   "metadata": {},
   "source": [
    "#### b) Calculate TPR and FPR on the train and test set. Draw the ROC curve and calculate AUC score"
   ]
  },
  {
   "cell_type": "markdown",
   "id": "5d3a06a8",
   "metadata": {},
   "source": [
    "The TPR is the fraction of survivors that were classified as survivors. And FPR is the fraction of dead persons that were classified as survivors. We classify a person as survivor when the probability of survival is  greater or equal to one half. "
   ]
  },
  {
   "cell_type": "markdown",
   "id": "d37cafc6",
   "metadata": {},
   "source": [
    "For ROC and AUC use the functions from scikit-learn library."
   ]
  },
  {
   "cell_type": "code",
   "execution_count": 257,
   "id": "cfea8862-ad73-4b6d-af86-71d6c5be58c3",
   "metadata": {},
   "outputs": [],
   "source": [
    "test_data_selected = test_data[['pclass', 'sex', 'survived']]\n",
    "test_grouped = test_data_selected.groupby(['survived','sex','pclass'])\n",
    "test_counts = test_grouped.size()"
   ]
  },
  {
   "cell_type": "code",
   "execution_count": 258,
   "id": "bc0d28f4-60ab-4b50-913b-24867a78cb80",
   "metadata": {},
   "outputs": [],
   "source": [
    "def tpr_fpr(classifier, counts):\n",
    "    TP=0\n",
    "    FP=0\n",
    "    TN=0\n",
    "    FN=0\n",
    "    \n",
    "    for sex,pclass in classifier.index:\n",
    "        if classifier.loc[(sex,pclass)]>=0.5:\n",
    "            TP+=counts.loc[(1,sex,pclass)]\n",
    "            FP+=counts.loc[(0,sex,pclass)]\n",
    "        else:\n",
    "            TN+=counts.loc[(0,sex,pclass)]\n",
    "            FN+=counts.loc[(1,sex,pclass)]\n",
    "    \n",
    "    TPR = TP/counts.loc[1].sum()\n",
    "    FPR = FP/counts.loc[0].sum()\n",
    "\n",
    "    return TPR,FPR"
   ]
  },
  {
   "cell_type": "code",
   "execution_count": 259,
   "id": "e5f4d476-d3e8-4ad0-9e6f-576d3c735e19",
   "metadata": {},
   "outputs": [
    {
     "name": "stdout",
     "output_type": "stream",
     "text": [
      "AUC = 0.8327163833075735\n",
      "Train data TPR:  0.6925  Test data TPR:  0.62\n",
      "Train data FPR:  0.14528593508500773  Test data FPR:  0.14528593508500773\n"
     ]
    },
    {
     "data": {
      "image/png": "[encoded data removed]",
      "text/plain": [
       "<Figure size 432x288 with 1 Axes>"
      ]
     },
     "metadata": {
      "needs_background": "light"
     },
     "output_type": "display_data"
    }
   ],
   "source": [
    "from sklearn.metrics import roc_curve, roc_auc_score\n",
    "\n",
    "c = p_surv_cond_sex_pclass.loc[1]\n",
    "\n",
    "tpr_train, fpr_train = tpr_fpr(c,counts)\n",
    "tpr_test, fpr_test = tpr_fpr(c,test_counts)\n",
    "\n",
    "labels = np.array(data.survived)\n",
    "\n",
    "probabilities = np.array([c.loc[(sex,pclass)] for sex, pclass in zip(data_selected['sex'], data_selected['pclass'])])\n",
    "\n",
    "fprs, tprs, thds = roc_curve(labels, probabilities);\n",
    "auc = roc_auc_score(labels, probabilities)\n",
    "\n",
    "print(\"AUC = \" + str(auc))\n",
    "\n",
    "plt.plot(fprs, tprs)\n",
    "plt.scatter([fpr_train], [tpr_train])\n",
    "\n",
    "print(\"Train data TPR: \",tpr_train,\" Test data TPR: \", tpr_test)\n",
    "print(\"Train data FPR: \",fpr_train,\" Test data FPR: \", fpr_train)"
   ]
  },
  {
   "cell_type": "markdown",
   "id": "be520073",
   "metadata": {},
   "source": [
    "#### c) Are those features conditionally independent? "
   ]
  },
  {
   "cell_type": "markdown",
   "id": "dc6bcbfb",
   "metadata": {},
   "source": [
    "To answer this question we need to compare conditional probability distribution"
   ]
  },
  {
   "cell_type": "markdown",
   "id": "1629cc97",
   "metadata": {},
   "source": [
    "$$P(sex,pclass|survived)$$"
   ]
  },
  {
   "cell_type": "markdown",
   "id": "547648c7",
   "metadata": {},
   "source": [
    "with"
   ]
  },
  {
   "cell_type": "markdown",
   "id": "4b66ab4f",
   "metadata": {},
   "source": [
    "$$P(sex|survied)\\times P(pclass|survived)$$ "
   ]
  },
  {
   "cell_type": "markdown",
   "id": "98b5a3b8",
   "metadata": {},
   "source": [
    "Please note that $survived$ is actually a label for the survival status: 1 for survived and 0 for dead. "
   ]
  },
  {
   "cell_type": "markdown",
   "id": "5eda90f8",
   "metadata": {},
   "source": [
    "By definition"
   ]
  },
  {
   "cell_type": "markdown",
   "id": "1581e3ab",
   "metadata": {},
   "source": [
    "$$P(sex,pclass|survived)= \\frac{P(sex,pclass,survived)}{P(survived)}$$"
   ]
  },
  {
   "cell_type": "markdown",
   "id": "7476ad7a",
   "metadata": {},
   "source": [
    "which can be calculated based on the `counts` object. "
   ]
  },
  {
   "cell_type": "code",
   "execution_count": 260,
   "id": "10a1bc70-e328-47a2-a9c2-39e668e5e524",
   "metadata": {},
   "outputs": [
    {
     "name": "stdout",
     "output_type": "stream",
     "text": [
      "sex     pclass  survived\n",
      "female  1       0          -0.017369\n",
      "                1           0.014344\n",
      "        2       0          -0.014859\n",
      "                1           0.025919\n",
      "        3       0           0.032228\n",
      "                1          -0.040263\n",
      "male    1       0           0.017369\n",
      "                1          -0.014344\n",
      "        2       0           0.014859\n",
      "                1          -0.025919\n",
      "        3       0          -0.032228\n",
      "                1           0.040263\n",
      "dtype: float64\n"
     ]
    }
   ],
   "source": [
    "survived = counts.sum(level=['survived'])\n",
    "p_sex_pclass_cond_survived = counts/survived\n",
    "p_sex_pclass_cond_survived = p_sex_pclass_cond_survived.reorder_levels(['sex','pclass','survived']).sort_index()\n",
    "\n",
    "p_sex_cond_survived = counts.sum(level=['sex','survived'])/survived\n",
    "p_pclass_cond_survived = counts.sum(level=['pclass', 'survived'])/survived\n",
    "\n",
    "p_sex_p_pclass_cond_survived = (p_sex_cond_survived * p_pclass_cond_survived).reorder_levels(['sex','pclass','survived']).sort_index()\n",
    "\n",
    "independence = p_sex_pclass_cond_survived - p_sex_p_pclass_cond_survived\n",
    "\n",
    "print(independence)"
   ]
  },
  {
   "cell_type": "code",
   "execution_count": 261,
   "id": "8c6af2e4-bd66-4333-8846-1d2ea9c27ad6",
   "metadata": {},
   "outputs": [
    {
     "name": "stdout",
     "output_type": "stream",
     "text": [
      "sex     pclass  survived\n",
      "female  1       0           3.746007\n",
      "                1           0.047812\n",
      "        2       0           0.961360\n",
      "                1           0.143993\n",
      "        3       0           0.257427\n",
      "                1           0.189471\n",
      "male    1       0           0.118295\n",
      "                1           0.127500\n",
      "        2       0           0.076909\n",
      "                1           0.609853\n",
      "        3       0           0.062617\n",
      "                1           0.264016\n",
      "dtype: float64\n"
     ]
    }
   ],
   "source": [
    "relative_independence = independence.abs()/p_sex_pclass_cond_survived\n",
    "print(relative_independence)"
   ]
  },
  {
   "cell_type": "markdown",
   "id": "9124d3eb",
   "metadata": {},
   "source": [
    "__d) Implement a Naive bayes classifier using same features and compare it with a).__"
   ]
  },
  {
   "cell_type": "markdown",
   "id": "b7c28516",
   "metadata": {},
   "source": [
    "Please calculate the FPR and TPR as well as AUC and draw the ROC curve for train and test datasets. "
   ]
  },
  {
   "cell_type": "markdown",
   "id": "e44720af",
   "metadata": {},
   "source": [
    "We  have already calculated the probability "
   ]
  },
  {
   "cell_type": "markdown",
   "id": "2da0abb1",
   "metadata": {},
   "source": [
    "$$P_{NB}(sex,pclass|survived) = P(sex|survived)\\times P(pclass|survived)$$"
   ]
  },
  {
   "cell_type": "markdown",
   "id": "56c512c1",
   "metadata": {},
   "source": [
    "From which we can calculate "
   ]
  },
  {
   "cell_type": "markdown",
   "id": "ed1e10e2",
   "metadata": {},
   "source": [
    "$$P_{NB}(survived|sex,pclass)= \\frac{P_{NB}(sex,pclass|survived)P(survived)}{P_{NB}(sex,pclass)}$$"
   ]
  },
  {
   "cell_type": "markdown",
   "id": "f6921577",
   "metadata": {},
   "source": [
    "where the denominator is also calculated from the factorised probabilities"
   ]
  },
  {
   "cell_type": "markdown",
   "id": "e417c93c",
   "metadata": {},
   "source": [
    "$$P_{NB}(sex,pclass)= P_{NB}(sex,pclass|survived=1)P(survived=1)+P_{NB}(sex,pclass|survived=0)P(survived=0)$$"
   ]
  },
  {
   "cell_type": "markdown",
   "id": "b7f0092a",
   "metadata": {},
   "source": [
    "That is very important because the result must be a probability and add up to one"
   ]
  },
  {
   "cell_type": "markdown",
   "id": "c7c176ae",
   "metadata": {},
   "source": [
    "$$P_{NB}(survived=1|sex,pclass)+P_{NB}(survived=0|sex,pclass)=1$$"
   ]
  },
  {
   "cell_type": "markdown",
   "id": "94b67bb7",
   "metadata": {},
   "source": [
    "for each sex and passenger class. "
   ]
  },
  {
   "cell_type": "code",
   "execution_count": 262,
   "id": "10b6eea1-ccf1-436f-ac2c-4597145fb7d7",
   "metadata": {},
   "outputs": [
    {
     "name": "stdout",
     "output_type": "stream",
     "text": [
      "sex     pclass  survived\n",
      "female  1       0           0.110801\n",
      "                1           0.889199\n",
      "        2       0           0.241410\n",
      "                1           0.758590\n",
      "        3       0           0.373005\n",
      "                1           0.626995\n",
      "male    1       0           0.622768\n",
      "                1           0.377232\n",
      "        2       0           0.808289\n",
      "                1           0.191711\n",
      "        3       0           0.887410\n",
      "                1           0.112590\n",
      "dtype: float64\n",
      "sex     pclass\n",
      "female  1         1.0\n",
      "        2         1.0\n",
      "        3         1.0\n",
      "male    1         1.0\n",
      "        2         1.0\n",
      "        3         1.0\n",
      "dtype: float64\n"
     ]
    }
   ],
   "source": [
    "p_nb_sex_pclass_cond_survived = p_sex_p_pclass_cond_survived\n",
    "p_nb_survived_cond_sex_pclass = (p_nb_sex_pclass_cond_survived * survived)\n",
    "p_survived = survived/counts.sum()\n",
    "p_nb_sex_pclass = p_nb_sex_pclass_cond_survived.loc[:,:,1] * p_survived[1] + p_nb_sex_pclass_cond_survived.loc[:,:,0] * p_survived[0]\n",
    "p_nb_survived_cond_sex_pclass = (p_nb_sex_pclass_cond_survived * p_survived)/p_nb_sex_pclass\n",
    "\n",
    "print(p_nb_survived_cond_sex_pclass)\n",
    "print(p_nb_survived_cond_sex_pclass.sum(level=['sex','pclass']))"
   ]
  },
  {
   "cell_type": "code",
   "execution_count": 263,
   "id": "8616be20-c41c-4de0-bb37-134ff535754f",
   "metadata": {},
   "outputs": [
    {
     "name": "stdout",
     "output_type": "stream",
     "text": [
      "AUC = 0.825127511591963\n",
      "Train TPR: 0.6925 Test TPR: 0.62\n",
      "Train FPR: 0.14528593508500773 Test FPR: 0.14528593508500773\n"
     ]
    },
    {
     "data": {
      "image/png": "[encoded data removed]",
      "text/plain": [
       "<Figure size 720x576 with 1 Axes>"
      ]
     },
     "metadata": {
      "needs_background": "light"
     },
     "output_type": "display_data"
    }
   ],
   "source": [
    "nb_c = p_nb_survived_cond_sex_pclass.loc[:,:,1]\n",
    "\n",
    "tpr_train, fpr_train = tpr_fpr(nb_c, counts)\n",
    "tpr_test, fpr_test = tpr_fpr(nb_c, test_counts)\n",
    "\n",
    "labels = np.array(data.survived)\n",
    "probabilities = np.array([nb_c.loc[(sex,pclass)] for sex, pclass in zip(data_selected['sex'], data_selected['pclass'])])\n",
    "fprs, tprs, thds = roc_curve(labels, probabilities);\n",
    "auc = roc_auc_score(labels, probabilities)\n",
    "\n",
    "plt.figure(figsize=(10, 8))\n",
    "plt.plot(fprs, tprs)\n",
    "plt.scatter([fpr_train], [tpr_train])\n",
    "\n",
    "print(\"AUC = \" + str(auc))\n",
    "print(\"Train TPR: \" + str(tpr_train) + \" Test TPR: \" +  str(tpr_test))\n",
    "print(\"Train FPR: \" + str(fpr_train) + \" Test FPR: \" + str(fpr_train))"
   ]
  },
  {
   "cell_type": "markdown",
   "id": "3bd2cb8d",
   "metadata": {},
   "source": [
    "## Problem 2"
   ]
  },
  {
   "cell_type": "markdown",
   "id": "d7fcdd5d",
   "metadata": {},
   "source": [
    "##### Add age as a feature and implement naive bayes classifier. "
   ]
  },
  {
   "cell_type": "markdown",
   "id": "680e792c",
   "metadata": {},
   "source": [
    "Compute the FPR, TPR and AUC as well as draw the ROC curve. "
   ]
  },
  {
   "cell_type": "markdown",
   "id": "0b2f5a3b",
   "metadata": {},
   "source": [
    "#### Hint: \n",
    "Consider using it as a categorical variable"
   ]
  },
  {
   "cell_type": "markdown",
   "id": "9420cd42",
   "metadata": {},
   "source": [
    "We start by constructning a new dataframe with age added:"
   ]
  },
  {
   "cell_type": "code",
   "execution_count": 264,
   "id": "2db04794",
   "metadata": {},
   "outputs": [],
   "source": [
    "data_with_age = data_selected.copy()"
   ]
  },
  {
   "cell_type": "code",
   "execution_count": 265,
   "id": "50deecce",
   "metadata": {},
   "outputs": [],
   "source": [
    "data_with_age['age'] = data['age']"
   ]
  },
  {
   "cell_type": "markdown",
   "id": "cf0a1e6e",
   "metadata": {},
   "source": [
    "###  Missing values ! :( "
   ]
  },
  {
   "cell_type": "markdown",
   "id": "70ab9b01",
   "metadata": {},
   "source": [
    "Unfortunatelly there is a problem. Not all passengers have their age assigned, as we can check by inspecting the dataframe:"
   ]
  },
  {
   "cell_type": "code",
   "execution_count": 266,
   "id": "6b82c2a7",
   "metadata": {},
   "outputs": [
    {
     "name": "stdout",
     "output_type": "stream",
     "text": [
      "<class 'pandas.core.frame.DataFrame'>\n",
      "Int64Index: 1047 entries, 207 to 1206\n",
      "Data columns (total 4 columns):\n",
      " #   Column    Non-Null Count  Dtype  \n",
      "---  ------    --------------  -----  \n",
      " 0   pclass    1047 non-null   int64  \n",
      " 1   sex       1047 non-null   object \n",
      " 2   survived  1047 non-null   int64  \n",
      " 3   age       845 non-null    float64\n",
      "dtypes: float64(1), int64(2), object(1)\n",
      "memory usage: 40.9+ KB\n"
     ]
    }
   ],
   "source": [
    "data_with_age.info()"
   ]
  },
  {
   "cell_type": "markdown",
   "id": "e00e11a2",
   "metadata": {},
   "source": [
    "We can see that there are only 1046 non-null entries for 'age'. We can do it also directly by using the `isna` methods"
   ]
  },
  {
   "cell_type": "code",
   "execution_count": 267,
   "id": "b1bec081",
   "metadata": {},
   "outputs": [
    {
     "data": {
      "text/plain": [
       "202"
      ]
     },
     "execution_count": 267,
     "metadata": {},
     "output_type": "execute_result"
    }
   ],
   "source": [
    "data['age'].isna().sum()"
   ]
  },
  {
   "cell_type": "markdown",
   "id": "54472bf0",
   "metadata": {},
   "source": [
    "This problem is unfortunatelly very common in data science and machine learning. I will present here several  methods of dealing with this problem."
   ]
  },
  {
   "cell_type": "markdown",
   "id": "847915b3",
   "metadata": {},
   "source": [
    "First solution is to ignore the missing data _i.e._ delete all rows with missing entries. This can be easilly achieved  using `pandas.DataFrame.dropna` method:"
   ]
  },
  {
   "cell_type": "code",
   "execution_count": 268,
   "id": "40c7f44f",
   "metadata": {},
   "outputs": [],
   "source": [
    "data_with_age_cleaned = data_with_age.dropna()"
   ]
  },
  {
   "cell_type": "code",
   "execution_count": 269,
   "id": "363d9624",
   "metadata": {},
   "outputs": [
    {
     "name": "stdout",
     "output_type": "stream",
     "text": [
      "<class 'pandas.core.frame.DataFrame'>\n",
      "Int64Index: 845 entries, 207 to 1206\n",
      "Data columns (total 4 columns):\n",
      " #   Column    Non-Null Count  Dtype  \n",
      "---  ------    --------------  -----  \n",
      " 0   pclass    845 non-null    int64  \n",
      " 1   sex       845 non-null    object \n",
      " 2   survived  845 non-null    int64  \n",
      " 3   age       845 non-null    float64\n",
      "dtypes: float64(1), int64(2), object(1)\n",
      "memory usage: 33.0+ KB\n"
     ]
    }
   ],
   "source": [
    "data_with_age_cleaned.info()"
   ]
  },
  {
   "cell_type": "markdown",
   "id": "9a846beb",
   "metadata": {},
   "source": [
    "Second method is to fill in the missing values. A good choice would be the  average age (or median)"
   ]
  },
  {
   "cell_type": "code",
   "execution_count": 270,
   "id": "c6d4784f",
   "metadata": {},
   "outputs": [
    {
     "data": {
      "text/plain": [
       "30.152169585798816"
      ]
     },
     "execution_count": 270,
     "metadata": {},
     "output_type": "execute_result"
    }
   ],
   "source": [
    "data_with_age_cleaned.age.mean()"
   ]
  },
  {
   "cell_type": "code",
   "execution_count": 271,
   "id": "d7828ef8",
   "metadata": {},
   "outputs": [],
   "source": [
    "data_with_age_filled = data_with_age.fillna(data_with_age.age.median())"
   ]
  },
  {
   "cell_type": "markdown",
   "id": "07580c78",
   "metadata": {},
   "source": [
    "The statistical functions conveniently just disregard the missing data. "
   ]
  },
  {
   "cell_type": "code",
   "execution_count": 272,
   "id": "f1d52884",
   "metadata": {},
   "outputs": [
    {
     "name": "stdout",
     "output_type": "stream",
     "text": [
      "<class 'pandas.core.frame.DataFrame'>\n",
      "Int64Index: 1047 entries, 207 to 1206\n",
      "Data columns (total 4 columns):\n",
      " #   Column    Non-Null Count  Dtype  \n",
      "---  ------    --------------  -----  \n",
      " 0   pclass    1047 non-null   int64  \n",
      " 1   sex       1047 non-null   object \n",
      " 2   survived  1047 non-null   int64  \n",
      " 3   age       1047 non-null   float64\n",
      "dtypes: float64(1), int64(2), object(1)\n",
      "memory usage: 40.9+ KB\n"
     ]
    }
   ],
   "source": [
    "data_with_age_filled.info()"
   ]
  },
  {
   "cell_type": "code",
   "execution_count": 273,
   "id": "cf0c9ec6",
   "metadata": {},
   "outputs": [
    {
     "data": {
      "text/plain": [
       "29.736946800382043"
      ]
     },
     "execution_count": 273,
     "metadata": {},
     "output_type": "execute_result"
    }
   ],
   "source": [
    "data_with_age_filled.age.mean()"
   ]
  },
  {
   "cell_type": "markdown",
   "id": "fa3384a0",
   "metadata": {},
   "source": [
    "A more \"sophisticated\" method would be to will the missing values based on the group statistics e.g. average age of persons with same sex and pclass. That can be achieved using `groupby`, and `apply` methods. We could do it in one line, but I will rather do it step by step. "
   ]
  },
  {
   "cell_type": "markdown",
   "id": "149bbd2b",
   "metadata": {},
   "source": [
    "We start by grouping  data by sex and pclass. We do not group by survived, those are the labels and after training we would not have access to them. "
   ]
  },
  {
   "cell_type": "code",
   "execution_count": 274,
   "id": "a7dc9ff6",
   "metadata": {},
   "outputs": [],
   "source": [
    "grouped = data_with_age.groupby(['sex', 'pclass'])"
   ]
  },
  {
   "cell_type": "markdown",
   "id": "b3345245",
   "metadata": {},
   "source": [
    "Now we would like to take each group, calculate the mean age, and use it to fill the 'na\" values in the group. This can be achieved using the `apply` method"
   ]
  },
  {
   "cell_type": "code",
   "execution_count": 275,
   "id": "bfe79c75",
   "metadata": {},
   "outputs": [],
   "source": [
    "data_with_age_group_filled = grouped.apply(\n",
    "    lambda g: g.fillna({'age':g.age.mean()})\n",
    "                        )"
   ]
  },
  {
   "cell_type": "markdown",
   "id": "6f88621b",
   "metadata": {},
   "source": [
    "The `apply` method takes a function as argument. This functions expects a DataFrame and returs a DataFrame. The groups are passed one by one to this function and the results are assempled together back into the resulting  dataframe."
   ]
  },
  {
   "cell_type": "code",
   "execution_count": 276,
   "id": "03063d9f",
   "metadata": {},
   "outputs": [
    {
     "name": "stdout",
     "output_type": "stream",
     "text": [
      "<class 'pandas.core.frame.DataFrame'>\n",
      "MultiIndex: 1047 entries, ('female', 1, 207) to ('male', 3, 1206)\n",
      "Data columns (total 4 columns):\n",
      " #   Column    Non-Null Count  Dtype  \n",
      "---  ------    --------------  -----  \n",
      " 0   pclass    1047 non-null   int64  \n",
      " 1   sex       1047 non-null   object \n",
      " 2   survived  1047 non-null   int64  \n",
      " 3   age       1047 non-null   float64\n",
      "dtypes: float64(1), int64(2), object(1)\n",
      "memory usage: 77.4+ KB\n"
     ]
    }
   ],
   "source": [
    "data_with_age_group_filled.info()"
   ]
  },
  {
   "cell_type": "code",
   "execution_count": 277,
   "id": "7c6e22f9",
   "metadata": {},
   "outputs": [
    {
     "data": {
      "text/plain": [
       "29.59462618547685"
      ]
     },
     "execution_count": 277,
     "metadata": {},
     "output_type": "execute_result"
    }
   ],
   "source": [
    "data_with_age_group_filled.age.mean()"
   ]
  },
  {
   "cell_type": "markdown",
   "id": "6d208b6f",
   "metadata": {},
   "source": [
    "The last method would be to treat the missing data as separate age category. "
   ]
  },
  {
   "cell_type": "markdown",
   "id": "fd8f73a4",
   "metadata": {},
   "source": [
    "Now we will divide age into categories. Just for fun I will define a function that returns a categorizing function"
   ]
  },
  {
   "cell_type": "code",
   "execution_count": 278,
   "id": "2fe29ac7",
   "metadata": {},
   "outputs": [],
   "source": [
    "def make_age_categorizer(limits, lbls):\n",
    "    def categorizer(age):\n",
    "        if not pd.isna(age):\n",
    "            for i,l in enumerate(limits):\n",
    "                if age<=l:\n",
    "                    return lbls[i]\n",
    "            return lbls[-1]    \n",
    "        else:\n",
    "            return 'unc'\n",
    "\n",
    "    return categorizer"
   ]
  },
  {
   "cell_type": "markdown",
   "id": "d95c6bba",
   "metadata": {},
   "source": [
    "Somewhat arbitrarly I will classify all younger then 12 years as children, between 12 and 60 as adults and older as seniors"
   ]
  },
  {
   "cell_type": "code",
   "execution_count": 279,
   "id": "b41fe355",
   "metadata": {},
   "outputs": [],
   "source": [
    "ctg = make_age_categorizer([12,60],['child','adult','senior'])"
   ]
  },
  {
   "cell_type": "markdown",
   "id": "b11c8aa3",
   "metadata": {},
   "source": [
    "We can use the `cgt` function to add new column containing age categories to dataframe"
   ]
  },
  {
   "cell_type": "code",
   "execution_count": 280,
   "id": "86f2079d",
   "metadata": {},
   "outputs": [],
   "source": [
    "data_with_age['age_category']=data_with_age.age.apply(ctg)"
   ]
  },
  {
   "cell_type": "markdown",
   "id": "9c248719",
   "metadata": {},
   "source": [
    "and group it by all categories"
   ]
  },
  {
   "cell_type": "code",
   "execution_count": 281,
   "id": "b92d4a8b",
   "metadata": {},
   "outputs": [],
   "source": [
    "counts_with_age = data_with_age.groupby( ['survived', 'sex', 'pclass', 'age_category']).size()"
   ]
  },
  {
   "cell_type": "code",
   "execution_count": 282,
   "id": "ac11ef67",
   "metadata": {},
   "outputs": [],
   "source": [
    "# counts_with_age"
   ]
  },
  {
   "cell_type": "markdown",
   "id": "48b1a921",
   "metadata": {},
   "source": [
    "From now on we can proceed as before"
   ]
  },
  {
   "cell_type": "code",
   "execution_count": 283,
   "id": "50c65197-2107-4029-8f88-2f9ceabdbfbe",
   "metadata": {},
   "outputs": [
    {
     "name": "stdout",
     "output_type": "stream",
     "text": [
      "sex     pclass  age_category\n",
      "female  1       adult           0.089923\n",
      "                child           0.012383\n",
      "                senior          0.001827\n",
      "                unc             0.018599\n",
      "        2       adult           0.056414\n",
      "                child           0.007226\n",
      "                senior          0.001373\n",
      "                unc             0.012587\n",
      "        3       adult           0.111085\n",
      "                child           0.013133\n",
      "                senior          0.003160\n",
      "                unc             0.026636\n",
      "male    1       adult           0.091258\n",
      "                child           0.009043\n",
      "                senior          0.003326\n",
      "                unc             0.024835\n",
      "        2       adult           0.095758\n",
      "                child           0.008090\n",
      "                senior          0.004074\n",
      "                unc             0.028423\n",
      "        3       adult           0.266164\n",
      "                child           0.020803\n",
      "                senior          0.012028\n",
      "                unc             0.081853\n",
      "dtype: float64\n"
     ]
    }
   ],
   "source": [
    "survived = counts_with_age.sum(level=['survived'])\n",
    "\n",
    "p_age_cond_survived = counts_with_age.sum(level=['age_category','survived'])/survived\n",
    "p_nb_sex_pclass_age_cond_survived = p_nb_sex_pclass_cond_survived * p_age_cond_survived\n",
    "p_nb_sex_pclass_age_cond_survived = p_nb_sex_pclass_age_cond_survived.reorder_levels(['sex','pclass','age_category','survived']).sort_index()\n",
    "p_survived = survived/counts_with_age.sum()\n",
    "p_nb_sex_pclass_age = p_nb_sex_pclass_age_cond_survived.loc[:,:,:,1] * p_survived[1] + p_nb_sex_pclass_age_cond_survived.loc[:,:,:,0] * p_survived[0]\n",
    "p_nb_survived_cond_sex_pclass_age = (p_nb_sex_pclass_age_cond_survived * p_survived)/p_nb_sex_pclass_age\n",
    "\n",
    "print(p_nb_sex_pclass_age)"
   ]
  },
  {
   "cell_type": "code",
   "execution_count": 284,
   "id": "e64fde51-dcf9-4974-aea6-1982d4bc50a5",
   "metadata": {},
   "outputs": [
    {
     "data": {
      "text/plain": [
       "sex     pclass  age_category\n",
       "female  1       adult           1.0\n",
       "                child           1.0\n",
       "                senior          1.0\n",
       "                unc             1.0\n",
       "        2       adult           1.0\n",
       "                child           1.0\n",
       "                senior          1.0\n",
       "                unc             1.0\n",
       "        3       adult           1.0\n",
       "                child           1.0\n",
       "                senior          1.0\n",
       "                unc             1.0\n",
       "male    1       adult           1.0\n",
       "                child           1.0\n",
       "                senior          1.0\n",
       "                unc             1.0\n",
       "        2       adult           1.0\n",
       "                child           1.0\n",
       "                senior          1.0\n",
       "                unc             1.0\n",
       "        3       adult           1.0\n",
       "                child           1.0\n",
       "                senior          1.0\n",
       "                unc             1.0\n",
       "dtype: float64"
      ]
     },
     "execution_count": 284,
     "metadata": {},
     "output_type": "execute_result"
    }
   ],
   "source": [
    "p_nb_survived_cond_sex_pclass_age.sum(level=['sex','pclass','age_category'])"
   ]
  },
  {
   "cell_type": "code",
   "execution_count": 285,
   "id": "09b3210d-9928-424b-a6d2-8b976131b433",
   "metadata": {},
   "outputs": [],
   "source": [
    "def age_tpr_fpr(classifier, counts):\n",
    "    TP=0\n",
    "    FP=0\n",
    "    TN=0\n",
    "    FN=0\n",
    "    \n",
    "    for survived, sex, pclass,age_category in counts.index:\n",
    "        if classifier.loc[(sex,pclass,age_category)]>=0.5:\n",
    "            if(survived==1):\n",
    "                TP+=counts.loc[(1,sex,pclass,age_category)]\n",
    "            else:\n",
    "                FP+=counts.loc[(0,sex,pclass,age_category)]\n",
    "        else:\n",
    "            if(survived==0):\n",
    "                TN+=counts.loc[(0,sex,pclass,age_category)]\n",
    "            else:\n",
    "                FN+=counts.loc[(1,sex,pclass,age_category)]\n",
    "    \n",
    "    TPR = TP/counts.loc[1].sum()\n",
    "    FPR = FP/counts.loc[0].sum()\n",
    "\n",
    "    return TPR,FPR"
   ]
  },
  {
   "cell_type": "code",
   "execution_count": 286,
   "id": "ad1a3c13-0c61-4b76-b39e-db220f0df0eb",
   "metadata": {},
   "outputs": [
    {
     "name": "stdout",
     "output_type": "stream",
     "text": [
      "TPR: 0.6975   FPR: 0.14528593508500773\n"
     ]
    }
   ],
   "source": [
    "nb_c = p_nb_survived_cond_sex_pclass_age.loc[:,:,:,1]\n",
    "nb_TPR, nb_FPR = age_tpr_fpr(nb_c,counts_with_age)\n",
    "print(\"TPR: \" + str(nb_TPR) + \"   FPR: \" + str(nb_FPR))"
   ]
  },
  {
   "cell_type": "code",
   "execution_count": 287,
   "id": "52aa789f-82b3-46a7-a843-0b9d6e1c5169",
   "metadata": {},
   "outputs": [],
   "source": [
    "labels = np.array(data_with_age.survived)\n",
    "probabilities = np.array([nb_c.loc[(sex,pclass,age_category)] for sex, pclass, age_category in zip(data_with_age['sex'], data_with_age['pclass'], data_with_age['age_category'])])"
   ]
  },
  {
   "cell_type": "code",
   "execution_count": 288,
   "id": "05e10f81-b9b6-4961-b1e3-84b1023ae033",
   "metadata": {},
   "outputs": [
    {
     "data": {
      "text/plain": [
       "[<matplotlib.lines.Line2D at 0x7f620d941cd0>]"
      ]
     },
     "execution_count": 288,
     "metadata": {},
     "output_type": "execute_result"
    },
    {
     "data": {
      "image/png": "[encoded data removed]",
      "text/plain": [
       "<Figure size 720x576 with 1 Axes>"
      ]
     },
     "metadata": {
      "needs_background": "light"
     },
     "output_type": "display_data"
    }
   ],
   "source": [
    "fprs, tprs, thds = roc_curve(labels, probabilities);\n",
    "auc = roc_auc_score(labels, probabilities)\n",
    "\n",
    "plt.figure(figsize=(10, 8))\n",
    "plt.plot(fprs, tprs)"
   ]
  }
 ],
 "metadata": {
  "jupytext": {
   "text_representation": {
    "extension": ".Rmd",
    "format_name": "rmarkdown",
    "format_version": "1.2",
    "jupytext_version": "1.11.1"
   }
  },
  "kernelspec": {
   "display_name": "Python 3",
   "language": "python",
   "name": "python3"
  },
  "language_info": {
   "codemirror_mode": {
    "name": "ipython",
    "version": 3
   },
   "file_extension": ".py",
   "mimetype": "text/x-python",
   "name": "python",
   "nbconvert_exporter": "python",
   "pygments_lexer": "ipython3",
   "version": "3.9.4"
  }
 },
 "nbformat": 4,
 "nbformat_minor": 5
}
