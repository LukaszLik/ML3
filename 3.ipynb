{
 "cells": [
  {
   "cell_type": "markdown",
   "metadata": {},
   "source": [
    "# Counterfeit detection"
   ]
  },
  {
   "cell_type": "markdown",
   "metadata": {},
   "source": [
    "The task in this assignment is to detect the  counterfeit banknotes. The data set is based on [banknote authentication Data Set ](https://archive.ics.uci.edu/ml/datasets/banknote+authentication#) from UCI Machine Learning repository. The first three columns denote different parameters obtained from the photographs of the banknotes and last colum provides the label. Frankly as the dataset does not have any description I don't know  which labels corresponds to real and which to counterfeited banknotes. let's assume that label one (positive) denotes the clounterfeits. The set  \"banknote_authentication.csv\" can be found in the data  directory."
   ]
  },
  {
   "cell_type": "code",
   "execution_count": 180,
   "metadata": {},
   "outputs": [],
   "source": [
    "import pandas as pd\n",
    "import numpy as np\n",
    "import matplotlib.pyplot as plt\n",
    "import scipy.stats as st\n",
    "import scrapbook as sb\n",
    "import sklearn\n",
    "\n",
    "from sklearn.model_selection import train_test_split\n",
    "\n",
    "from sklearn.metrics import roc_curve, roc_auc_score, confusion_matrix, precision_score, f1_score\n",
    "from sklearn.model_selection import train_test_split, StratifiedKFold\n",
    "from sklearn.discriminant_analysis import QuadraticDiscriminantAnalysis, LinearDiscriminantAnalysis\n",
    "from sklearn.naive_bayes import GaussianNB\n",
    "\n",
    "from sklearn.mixture import GaussianMixture\n"
   ]
  },
  {
   "cell_type": "code",
   "execution_count": 181,
   "metadata": {},
   "outputs": [
    {
     "data": {
      "application/scrapbook.scrap.json+json": {
       "data": [
        "Łukasz",
        "Lik"
       ],
       "encoder": "json",
       "name": "person",
       "version": 1
      }
     },
     "metadata": {
      "scrapbook": {
       "data": true,
       "display": false,
       "name": "person"
      }
     },
     "output_type": "display_data"
    },
    {
     "data": {
      "text/plain": [
       "['Łukasz', 'Lik']"
      ]
     },
     "metadata": {
      "scrapbook": {
       "data": false,
       "display": true,
       "name": "person"
      }
     },
     "output_type": "display_data"
    }
   ],
   "source": [
    "data = pd.read_csv('data/banknote_authentication.csv')\n",
    "sb.glue('person',['Łukasz', 'Lik'], display=True)"
   ]
  },
  {
   "cell_type": "code",
   "execution_count": 182,
   "metadata": {},
   "outputs": [
    {
     "data": {
      "text/html": [
       "<div>\n",
       "<style scoped>\n",
       "    .dataframe tbody tr th:only-of-type {\n",
       "        vertical-align: middle;\n",
       "    }\n",
       "\n",
       "    .dataframe tbody tr th {\n",
       "        vertical-align: top;\n",
       "    }\n",
       "\n",
       "    .dataframe thead th {\n",
       "        text-align: right;\n",
       "    }\n",
       "</style>\n",
       "<table border=\"1\" class=\"dataframe\">\n",
       "  <thead>\n",
       "    <tr style=\"text-align: right;\">\n",
       "      <th></th>\n",
       "      <th>a1</th>\n",
       "      <th>a2</th>\n",
       "      <th>a3</th>\n",
       "      <th>counterfeit</th>\n",
       "    </tr>\n",
       "  </thead>\n",
       "  <tbody>\n",
       "    <tr>\n",
       "      <th>0</th>\n",
       "      <td>12.3784</td>\n",
       "      <td>0.70403</td>\n",
       "      <td>-7.58360</td>\n",
       "      <td>0</td>\n",
       "    </tr>\n",
       "    <tr>\n",
       "      <th>1</th>\n",
       "      <td>8.1881</td>\n",
       "      <td>-3.13380</td>\n",
       "      <td>-2.52760</td>\n",
       "      <td>0</td>\n",
       "    </tr>\n",
       "    <tr>\n",
       "      <th>2</th>\n",
       "      <td>-10.8679</td>\n",
       "      <td>9.49260</td>\n",
       "      <td>-1.41160</td>\n",
       "      <td>1</td>\n",
       "    </tr>\n",
       "    <tr>\n",
       "      <th>3</th>\n",
       "      <td>-8.7903</td>\n",
       "      <td>7.97350</td>\n",
       "      <td>-0.45475</td>\n",
       "      <td>1</td>\n",
       "    </tr>\n",
       "    <tr>\n",
       "      <th>4</th>\n",
       "      <td>-5.5167</td>\n",
       "      <td>10.93900</td>\n",
       "      <td>-0.40820</td>\n",
       "      <td>1</td>\n",
       "    </tr>\n",
       "  </tbody>\n",
       "</table>\n",
       "</div>"
      ],
      "text/plain": [
       "        a1        a2       a3  counterfeit\n",
       "0  12.3784   0.70403 -7.58360            0\n",
       "1   8.1881  -3.13380 -2.52760            0\n",
       "2 -10.8679   9.49260 -1.41160            1\n",
       "3  -8.7903   7.97350 -0.45475            1\n",
       "4  -5.5167  10.93900 -0.40820            1"
      ]
     },
     "execution_count": 182,
     "metadata": {},
     "output_type": "execute_result"
    }
   ],
   "source": [
    "data.head()"
   ]
  },
  {
   "cell_type": "code",
   "execution_count": 183,
   "metadata": {},
   "outputs": [],
   "source": [
    "values = data[['a1', 'a2', 'a3']]\n",
    "labels = data['counterfeit']\n",
    "\n",
    "# print (labels)"
   ]
  },
  {
   "cell_type": "code",
   "execution_count": 184,
   "metadata": {},
   "outputs": [
    {
     "name": "stdout",
     "output_type": "stream",
     "text": [
      "            a1      a2        a3\n",
      "1023   7.63360 -1.9427 -0.374580\n",
      "832   10.18910 -3.9323 -4.182700\n",
      "1090  -3.91720  3.9746  0.361190\n",
      "968    9.22070 -3.7044 -6.810300\n",
      "19     3.73300  0.6312 -0.397860\n",
      "...        ...     ...       ...\n",
      "378    1.84790  3.1375  0.428430\n",
      "853   -0.56078  7.7215  0.453000\n",
      "418    5.68020 -1.9693  0.026279\n",
      "830   -5.30360  3.8803 -0.704320\n",
      "193   10.58850 -3.7250 -4.313300\n",
      "\n",
      "[491 rows x 3 columns]\n",
      "          a1         a2       a3\n",
      "60  -6.08160  10.095800 -1.01470\n",
      "398  3.63570  -4.404400 -4.14140\n",
      "361  3.86540  -0.333600 -1.27970\n",
      "441 -0.95602   2.707300 -0.16639\n",
      "834  2.14380  -0.472410 -1.66770\n",
      "..       ...        ...      ...\n",
      "133 -5.82300   5.869900  1.21200\n",
      "467 -6.63830   5.749100 -0.10691\n",
      "910 -6.22850  10.238900 -1.15430\n",
      "675  1.59330   0.045122 -1.67800\n",
      "76   1.89550   0.186500 -2.44090\n",
      "\n",
      "[386 rows x 3 columns]\n"
     ]
    }
   ],
   "source": [
    "# x = data[['a1', 'a2', 'a3']][:750]\n",
    "# y = data['counterfeit'][:750]\n",
    "# x_test = data[['a1', 'a2', 'a3']][750:]\n",
    "# y_test = data['counterfeit'][750:]\n",
    "data_train, data_test = train_test_split(data,test_size=0.2, stratify = data['counterfeit'])\n",
    "\n",
    "x, x_test, y, y_test = train_test_split(values, labels, test_size=0.2)\n",
    "\n",
    "x0 = x[y == 0]\n",
    "x1 = x[y == 1]\n",
    "\n",
    "\n",
    "print(x0)\n",
    "print(x1)\n",
    "# print(x_test)\n",
    "# print(y_test)"
   ]
  },
  {
   "cell_type": "markdown",
   "metadata": {},
   "source": [
    "## Problem "
   ]
  },
  {
   "cell_type": "markdown",
   "metadata": {},
   "source": [
    "### A."
   ]
  },
  {
   "cell_type": "markdown",
   "metadata": {},
   "source": [
    "Perform the Quadratic Discriminant Analysis on this set. Calculate the confusion matrix, AUC score and plot the ROC curve. Please use `scrapbook` to store your results. "
   ]
  },
  {
   "cell_type": "code",
   "execution_count": 185,
   "metadata": {},
   "outputs": [],
   "source": [
    "def analizer(cls, x, y, x_test, y_test):\n",
    "    cls.fit(x,y)\n",
    "    pred = cls.predict(x_test)\n",
    "    proba = cls.predict_proba(x_test)[:,1]\n",
    "    \n",
    "    tnr, fpr, fnr, tpr = confusion_matrix(y_test, pred, normalize='true').ravel()\n",
    "    prec = precision_score(y_test, pred)\n",
    "    f1 = f1_score(y_test, pred)\n",
    "    auc = roc_auc_score(y_test, proba)\n",
    "    fprs, tprs, thds = roc_curve(y_test, proba)\n",
    "    \n",
    "    return  pd.DataFrame({'tnr':[tnr], 'fpr':[fpr], 'fnr':[fnr],\n",
    "                      'tpr':[tpr], 'precision' : [prec], 'f1' :[f1],\n",
    "                      'auc' :[auc]}), fprs, tprs, thds\n",
    "    "
   ]
  },
  {
   "cell_type": "code",
   "execution_count": 186,
   "metadata": {},
   "outputs": [
    {
     "name": "stdout",
     "output_type": "stream",
     "text": [
      "[0.         0.         0.         0.01694915 0.01694915 0.02542373\n",
      " 0.02542373 0.04237288 0.04237288 0.05084746 0.05084746 0.05932203\n",
      " 0.07627119 0.07627119 0.08474576 0.08474576 0.09322034 0.09322034\n",
      " 0.11864407 0.11864407 0.12711864 0.12711864 0.1440678  0.1440678\n",
      " 0.15254237 0.15254237 0.16101695 0.16101695 0.1779661  0.1779661\n",
      " 0.19491525 0.19491525 0.20338983 0.20338983 0.22033898 0.22033898\n",
      " 0.22881356 0.22881356 0.23728814 0.23728814 0.24576271 0.24576271\n",
      " 0.25423729 0.25423729 0.26271186 0.26271186 0.29661017 0.29661017\n",
      " 0.30508475 0.30508475 0.33898305 0.33898305 0.78813559 0.78813559\n",
      " 1.        ]\n"
     ]
    }
   ],
   "source": [
    "qda = sklearn.discriminant_analysis.QuadraticDiscriminantAnalysis()\n",
    "df, fprs, tprs, thds = analizer(qda, x, y, x_test, y_test)\n",
    "proba = qda.predict_proba(x_test)[:,1]\n",
    "\n",
    "roc = [fprs, tprs, thds]\n",
    "print(roc[0])"
   ]
  },
  {
   "cell_type": "markdown",
   "metadata": {},
   "source": [
    "also please save the ROC plot"
   ]
  },
  {
   "cell_type": "code",
   "execution_count": 187,
   "metadata": {},
   "outputs": [
    {
     "data": {
      "application/scrapbook.scrap.pandas+json": {
       "data": "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",
       "encoder": "pandas",
       "name": "A_scores",
       "version": 1
      }
     },
     "metadata": {
      "scrapbook": {
       "data": true,
       "display": false,
       "name": "A_scores"
      }
     },
     "output_type": "display_data"
    },
    {
     "data": {
      "text/html": [
       "<div>\n",
       "<style scoped>\n",
       "    .dataframe tbody tr th:only-of-type {\n",
       "        vertical-align: middle;\n",
       "    }\n",
       "\n",
       "    .dataframe tbody tr th {\n",
       "        vertical-align: top;\n",
       "    }\n",
       "\n",
       "    .dataframe thead th {\n",
       "        text-align: right;\n",
       "    }\n",
       "</style>\n",
       "<table border=\"1\" class=\"dataframe\">\n",
       "  <thead>\n",
       "    <tr style=\"text-align: right;\">\n",
       "      <th></th>\n",
       "      <th>tnr</th>\n",
       "      <th>fpr</th>\n",
       "      <th>fnr</th>\n",
       "      <th>tpr</th>\n",
       "      <th>precision</th>\n",
       "      <th>f1</th>\n",
       "      <th>auc</th>\n",
       "    </tr>\n",
       "  </thead>\n",
       "  <tbody>\n",
       "    <tr>\n",
       "      <th>0</th>\n",
       "      <td>0.805085</td>\n",
       "      <td>0.194915</td>\n",
       "      <td>0.284314</td>\n",
       "      <td>0.715686</td>\n",
       "      <td>0.760417</td>\n",
       "      <td>0.737374</td>\n",
       "      <td>0.870306</td>\n",
       "    </tr>\n",
       "  </tbody>\n",
       "</table>\n",
       "</div>"
      ],
      "text/plain": [
       "        tnr       fpr       fnr       tpr  precision        f1       auc\n",
       "0  0.805085  0.194915  0.284314  0.715686   0.760417  0.737374  0.870306"
      ]
     },
     "metadata": {
      "scrapbook": {
       "data": false,
       "display": true,
       "name": "A_scores"
      }
     },
     "output_type": "display_data"
    },
    {
     "data": {
      "image/png": "[encoded data removed]",
      "text/plain": [
       "<Figure size 576x576 with 1 Axes>"
      ]
     },
     "metadata": {
      "needs_background": "light"
     },
     "output_type": "display_data"
    }
   ],
   "source": [
    "fig, ax = plt.subplots(figsize=(8,8))\n",
    "#plot ROC\n",
    "ax.plot([0,1],[0,1]);\n",
    "ax.plot(roc[0],roc[1], label=\"QDA\");\n",
    "ax.legend()\n",
    "\n",
    "sb.glue('A_scores', df, display=True)\n",
    "sb.glue('A_ROC',fig, \"display\", display=False);"
   ]
  },
  {
   "cell_type": "markdown",
   "metadata": {},
   "source": [
    "### B."
   ]
  },
  {
   "cell_type": "markdown",
   "metadata": {},
   "source": [
    "Perform Gaussian Mixture Discriminant Analysis on this set as described in the `gaussian_mixture_model_EM_algorithm` notebook. Use two components for positives and two components for negatives. Calculate the confusion matrix, AUC score and plot the ROC curve. "
   ]
  },
  {
   "cell_type": "code",
   "execution_count": 188,
   "metadata": {},
   "outputs": [
    {
     "name": "stdout",
     "output_type": "stream",
     "text": [
      "[0.4698762 0.5301238]\n",
      "[[-0.52155345  3.20350923  0.34700502]\n",
      " [ 8.29732631 -1.23330731 -2.33420064]]\n",
      "[[[ 9.68301474 -4.36277293  1.20632492]\n",
      "  [-4.36277293  6.88313804 -1.14103321]\n",
      "  [ 1.20632492 -1.14103321  0.80382931]]\n",
      "\n",
      " [[ 3.6757094  -0.69018043 -3.09095834]\n",
      "  [-0.69018043  4.0689172   0.48946172]\n",
      "  [-3.09095834  0.48946172  4.12212009]]]\n"
     ]
    }
   ],
   "source": [
    "lab0 = GaussianMixture(n_components=2, max_iter=100, tol=0.0001) \n",
    "lab1 = GaussianMixture(n_components=2, max_iter=100, tol=0.0001) \n",
    "\n",
    "lab0.fit(x0)\n",
    "lab1.fit(x1)\n",
    "\n",
    "print(lab0.weights_)  #pi\n",
    "print(lab0.means_)    #mu\n",
    "print(lab0.covariances_) #Sigma (covariance) matrices\n",
    "# print(lab0.precisions_)"
   ]
  },
  {
   "cell_type": "code",
   "execution_count": 189,
   "metadata": {},
   "outputs": [],
   "source": [
    "def make_pdf(cmp):\n",
    "    \"\"\"\n",
    "    Takes a GaussianMixture object and returns corresponding\n",
    "    probability distribution function\n",
    "    \"\"\"\n",
    "    n_cmp = cmp.n_components\n",
    "    dists = [st.multivariate_normal(cmp.means_[i], cmp.covariances_[i]) for i in range(n_cmp)]\n",
    "    def pdf(x):\n",
    "        p = 0.0\n",
    "        for i in range(n_cmp):\n",
    "            p+= cmp.weights_[i]*dists[i].pdf(x)\n",
    "        return p\n",
    "    \n",
    "    return pdf\n",
    "    \n",
    "    \n",
    "def make_predict_proba(cmp0, cmp1, pi0=0.5, pi1=.5):\n",
    "    \"\"\"\n",
    "    Takes two GaussianMixture object and corresponding priors and returns \n",
    "    pdf for conditional probability P(c=1|x)\n",
    "    \"\"\"\n",
    "    pdf0 = make_pdf(cmp0)\n",
    "    pdf1 = make_pdf(cmp1)\n",
    "    def p(x):\n",
    "        p0=pi0*pdf0(x)\n",
    "        p1=pi1*pdf1(x)\n",
    "        return p1/(p1+p0)    \n",
    "        \n",
    "    return p"
   ]
  },
  {
   "cell_type": "code",
   "execution_count": 190,
   "metadata": {},
   "outputs": [],
   "source": [
    "mgd_predict_proba = make_predict_proba(lab0, lab1, 0.5, 0.5)\n",
    "\n",
    "mgd_proba = mgd_predict_proba(x_test)\n",
    "\n",
    "# confusion_matrix(y_test, mgd_proba>0.5, normalize='true')\n",
    "\n",
    "g_fprs, g_tprs, g_thds = roc_curve(y_test, mgd_proba)\n",
    "\n",
    "g_tnr, g_fpr, g_fnr, g_tpr = confusion_matrix(y_test, mgd_proba>0.5,normalize = 'true').ravel()\n",
    "g_f1 = f1_score(y_test, mgd_proba>0.5)\n",
    "g_precision = precision_score(y_test, mgd_proba>0.5)\n",
    "g_auc = roc_auc_score(y_test, mgd_proba)\n",
    "g_fprs, gm_tprs, gm_thds = roc_curve(y_test, mgd_proba)"
   ]
  },
  {
   "cell_type": "markdown",
   "metadata": {},
   "source": [
    "also please save the ROC plot"
   ]
  },
  {
   "cell_type": "code",
   "execution_count": 191,
   "metadata": {},
   "outputs": [
    {
     "data": {
      "application/scrapbook.scrap.json+json": {
       "data": [
        0.9322033898305084,
        0.06779661016949153,
        0.18627450980392157,
        0.8137254901960784,
        0.9120879120879121,
        0.8601036269430051,
        0.9572116982386174
       ],
       "encoder": "json",
       "name": "B_scores",
       "version": 1
      }
     },
     "metadata": {
      "scrapbook": {
       "data": true,
       "display": false,
       "name": "B_scores"
      }
     },
     "output_type": "display_data"
    },
    {
     "data": {
      "text/plain": [
       "[0.9322033898305084,\n",
       " 0.06779661016949153,\n",
       " 0.18627450980392157,\n",
       " 0.8137254901960784,\n",
       " 0.9120879120879121,\n",
       " 0.8601036269430051,\n",
       " 0.9572116982386174]"
      ]
     },
     "metadata": {
      "scrapbook": {
       "data": false,
       "display": true,
       "name": "B_scores"
      }
     },
     "output_type": "display_data"
    },
    {
     "data": {
      "image/png": "[encoded data removed]",
      "text/plain": [
       "<Figure size 576x576 with 1 Axes>"
      ]
     },
     "metadata": {
      "needs_background": "light"
     },
     "output_type": "display_data"
    }
   ],
   "source": [
    "fig, ax = plt.subplots(figsize=(8,8))\n",
    "#plot ROCs (for A and B problems)\n",
    "ax.plot([0,1],[0,1]);\n",
    "ax.plot(g_fprs, g_tprs, label=\"MGD\");\n",
    "ax.plot(roc[0],roc[1], label=\"QDA\");\n",
    "ax.legend()\n",
    "\n",
    "sb.glue('B_scores',[g_tnr, g_fpr, g_fnr, g_tpr, g_precision, g_f1, g_auc], display=True)\n",
    "sb.glue('B_ROC',fig, \"display\", display=False);"
   ]
  },
  {
   "cell_type": "markdown",
   "metadata": {},
   "source": [
    "### C."
   ]
  },
  {
   "cell_type": "markdown",
   "metadata": {},
   "source": [
    "Use k-fold cross validation to find the optimal number of gaussian components for each class. As before calculate the confusion matrix, AUC score and plot the ROC curve for the best classifier. "
   ]
  },
  {
   "cell_type": "markdown",
   "metadata": {},
   "source": [
    "__Hint__ use the `StratifiedKFold` function from scikit-learn library to generate folds. "
   ]
  },
  {
   "cell_type": "code",
   "execution_count": 192,
   "metadata": {},
   "outputs": [],
   "source": [
    "def fit_gms(n_cmp_neg, n_cmp_pos, train, test, pi0, pi1):\n",
    "    gm0 = GaussianMixture(n_components=n_cmp_neg)\n",
    "    gm1 = GaussianMixture(n_components=n_cmp_pos)\n",
    "    real_train_data = train[train['counterfeit']==0]\n",
    "    counterfeit_train_data = train[train['counterfeit']==1]\n",
    "    gm0.fit(real_train_data.loc[:, 'a1':'a3'])\n",
    "    gm1.fit(counterfeit_train_data.loc[:, 'a1':'a3'])\n",
    "    mga = make_predict_proba(gm0, gm1, pi0,pi1)\n",
    "    proba_test = mga(test.loc[:, 'a1':'a3'])\n",
    "    return f1_score(test['counterfeit'], proba_test>0.5)"
   ]
  },
  {
   "cell_type": "code",
   "execution_count": 193,
   "metadata": {},
   "outputs": [],
   "source": [
    "splits=3\n",
    "skf = StratifiedKFold(n_splits=splits, shuffle=True)\n",
    "cmps_range = (3, 20)\n",
    "max_score = 0\n",
    "\n",
    "for cmps0 in range(*cmps_range):\n",
    "    for cmps1 in range(*cmps_range):\n",
    "        f1 = 0.0\n",
    "        for train_index, test_index in skf.split(data_train.loc[:, 'a1':'a3'], data_train['counterfeit']):\n",
    "            f1 += fit_gms(cmps0, cmps1, data_train.iloc[train_index], data_train.iloc[test_index], 0.56, 0.44)/splits\n",
    "        #print(cmps0,cmps1,f1)\n",
    "        if(f1>max_score):\n",
    "            max_score=f1\n",
    "            opt_n_cmp = [cmps0,cmps1]"
   ]
  },
  {
   "cell_type": "code",
   "execution_count": 194,
   "metadata": {},
   "outputs": [
    {
     "name": "stdout",
     "output_type": "stream",
     "text": [
      "0.9581887460553591\n",
      "[14, 8]\n"
     ]
    }
   ],
   "source": [
    "print(max_score)\n",
    "print(opt_n_cmp)\n",
    "\n",
    "gm_0_opt = GaussianMixture(n_components=opt_n_cmp[0])\n",
    "gm_1_opt = GaussianMixture(n_components=opt_n_cmp[1])\n",
    "\n",
    "gm_0_opt.fit(x0)\n",
    "gm_1_opt.fit(x1)\n",
    "\n",
    "gm_opt_predict_proba = make_predict_proba(gm_0_opt, gm_1_opt, 0.5, 0.5)\n",
    "gm_opt_test_proba = gm_opt_predict_proba(x_test)\n",
    "\n",
    "gm_opt_tnr, gm_opt_fpr, gm_opt_fnr, gm_opt_tpr = confusion_matrix(y_test, gm_opt_test_proba>0.5,normalize = 'true').ravel()\n",
    "gm_opt_auc = roc_auc_score(y_test, gm_opt_test_proba)\n",
    "gm_opt_fprs, gm_opt_tprs, gm_opt_thds = roc_curve(y_test, gm_opt_test_proba)\n",
    "gm_opt_f1 = f1_score(y_test, gm_opt_test_proba>0.5)\n",
    "gm_opt_precision = precision_score(y_test, gm_opt_test_proba>0.5)"
   ]
  },
  {
   "cell_type": "code",
   "execution_count": 195,
   "metadata": {},
   "outputs": [
    {
     "data": {
      "application/scrapbook.scrap.json+json": {
       "data": [
        0.9661016949152542,
        0.03389830508474576,
        0.06862745098039216,
        0.9313725490196079,
        0.9595959595959596,
        0.945273631840796,
        0.9908607510800931
       ],
       "encoder": "json",
       "name": "C_scores",
       "version": 1
      }
     },
     "metadata": {
      "scrapbook": {
       "data": true,
       "display": false,
       "name": "C_scores"
      }
     },
     "output_type": "display_data"
    },
    {
     "data": {
      "text/plain": [
       "[0.9661016949152542,\n",
       " 0.03389830508474576,\n",
       " 0.06862745098039216,\n",
       " 0.9313725490196079,\n",
       " 0.9595959595959596,\n",
       " 0.945273631840796,\n",
       " 0.9908607510800931]"
      ]
     },
     "metadata": {
      "scrapbook": {
       "data": false,
       "display": true,
       "name": "C_scores"
      }
     },
     "output_type": "display_data"
    },
    {
     "data": {
      "image/png": "[encoded data removed]",
      "text/plain": [
       "<Figure size 576x576 with 1 Axes>"
      ]
     },
     "metadata": {
      "needs_background": "light"
     },
     "output_type": "display_data"
    }
   ],
   "source": [
    "fig, ax = plt.subplots(figsize=(8,8))\n",
    "#plot ROC\n",
    "ax.set_aspect(1)\n",
    "ax.plot([0,1],[0,1]);\n",
    "ax.plot(g_fprs, g_tprs, label=\"MGD\");\n",
    "ax.plot(roc[0],roc[1], label=\"QDA\");\n",
    "ax.plot(gm_opt_fprs, gm_opt_tprs, label=\"OPT\".format('gm', gm_opt_auc))\n",
    "\n",
    "sb.glue('C_scores',[gm_opt_tnr, gm_opt_fpr, gm_opt_fnr, gm_opt_tpr, gm_opt_precision, gm_opt_f1, gm_opt_auc], display=True)\n",
    "sb.glue('C_ROC',fig, \"display\", display=False)"
   ]
  },
  {
   "cell_type": "markdown",
   "metadata": {},
   "source": [
    "Store the results for the best estimator"
   ]
  },
  {
   "cell_type": "markdown",
   "metadata": {},
   "source": [
    "also please save the ROC plot"
   ]
  },
  {
   "cell_type": "markdown",
   "metadata": {},
   "source": [
    "## D.  "
   ]
  },
  {
   "cell_type": "markdown",
   "metadata": {},
   "source": [
    "Assume that 1% of all the customers in your store presents a counterfeit 100PLN bill. If you accept the counterfeit bill you loose 100PLN. If you reject a valid bill,  you may loose the purchase, you estimate this loss as 15PLN on average. For each of the three classifiers find the threshold that minimises your losses and calculates the minimum loss for each classifier. Show the optimal classifiers points on the ROC curves."
   ]
  },
  {
   "cell_type": "code",
   "execution_count": 196,
   "metadata": {},
   "outputs": [],
   "source": [
    "def score(fpr,fnr):\n",
    "    fp_loss = fpr * 0.99 * 15\n",
    "    fn_loss = fnr * 0.01 * 100\n",
    "    return fp_loss+fn_loss\n",
    "\n",
    "def find_optimal(fprs,tprs,thds):\n",
    "    min_loss = 1\n",
    "    index = 0\n",
    "    for i in range(len(thds)):\n",
    "            s=score(fprs[i], 1-tprs[i])\n",
    "            if (s<min_loss):\n",
    "                min_loss=s\n",
    "                index=i\n",
    "    tnr = 1 - fprs[index]\n",
    "    fpr = fprs[index]\n",
    "    fnr = 1 - tprs[index]\n",
    "    tpr = tprs[index]\n",
    "    threshold = thds[index]\n",
    "    precision = precision_score(y_test, proba>threshold)\n",
    "    f1 = f1_score(y_test, proba>threshold)\n",
    "    auc = roc_auc_score(y_test, proba)\n",
    "    return tnr, fpr, fnr, tpr, precision, f1, auc, min_loss, threshold"
   ]
  },
  {
   "cell_type": "code",
   "execution_count": 197,
   "metadata": {},
   "outputs": [
    {
     "data": {
      "application/scrapbook.scrap.json+json": {
       "data": [
        1,
        0,
        0.8627450980392157,
        0.13725490196078433,
        1,
        0.22608695652173913,
        0.8703057494184114,
        0.8627450980392158,
        0.9728909660683518
       ],
       "encoder": "json",
       "name": "D_A_scores",
       "version": 1
      }
     },
     "metadata": {
      "scrapbook": {
       "data": true,
       "display": false,
       "name": "D_A_scores"
      }
     },
     "output_type": "display_data"
    },
    {
     "data": {
      "text/plain": [
       "[1.0,\n",
       " 0.0,\n",
       " 0.8627450980392157,\n",
       " 0.13725490196078433,\n",
       " 1.0,\n",
       " 0.22608695652173913,\n",
       " 0.8703057494184114,\n",
       " 0.8627450980392158,\n",
       " 0.9728909660683518]"
      ]
     },
     "metadata": {
      "scrapbook": {
       "data": false,
       "display": true,
       "name": "D_A_scores"
      }
     },
     "output_type": "display_data"
    }
   ],
   "source": [
    "tnr, fpr, fnr, tpr, precision, f1, auc, min_loss, threshold = find_optimal(fprs,tprs,thds)\n",
    "\n",
    "sb.glue('D_A_scores',[tnr, fpr, fnr, tpr, precision, f1, auc, min_loss, threshold], display=True)"
   ]
  },
  {
   "cell_type": "code",
   "execution_count": 198,
   "metadata": {},
   "outputs": [
    {
     "data": {
      "application/scrapbook.scrap.json+json": {
       "data": [
        1,
        0,
        0.5294117647058824,
        0.47058823529411764,
        0.9333333333333333,
        0.23931623931623935,
        0.8703057494184114,
        0.5294117647058824,
        0.964721717508134
       ],
       "encoder": "json",
       "name": "D_B_scores",
       "version": 1
      }
     },
     "metadata": {
      "scrapbook": {
       "data": true,
       "display": false,
       "name": "D_B_scores"
      }
     },
     "output_type": "display_data"
    },
    {
     "data": {
      "text/plain": [
       "[1.0,\n",
       " 0.0,\n",
       " 0.5294117647058824,\n",
       " 0.47058823529411764,\n",
       " 0.9333333333333333,\n",
       " 0.23931623931623935,\n",
       " 0.8703057494184114,\n",
       " 0.5294117647058824,\n",
       " 0.964721717508134]"
      ]
     },
     "metadata": {
      "scrapbook": {
       "data": false,
       "display": true,
       "name": "D_B_scores"
      }
     },
     "output_type": "display_data"
    }
   ],
   "source": [
    "gm_tnr, gm_fpr, gm_fnr, gm_tpr, gm_precision, gm_f1, gm_auc, gm_min_loss, gm_threshold = find_optimal(g_fprs,g_tprs,g_thds)\n",
    "\n",
    "sb.glue('D_B_scores',[gm_tnr, gm_fpr, gm_fnr, gm_tpr, gm_precision, gm_f1, gm_auc, gm_min_loss, gm_threshold], display=True)"
   ]
  },
  {
   "cell_type": "code",
   "execution_count": 199,
   "metadata": {},
   "outputs": [
    {
     "data": {
      "application/scrapbook.scrap.json+json": {
       "data": [
        1,
        0,
        0.12745098039215685,
        0.8725490196078431,
        0.896551724137931,
        0.3969465648854962,
        0.8703057494184114,
        0.12745098039215685,
        0.8669882678909097
       ],
       "encoder": "json",
       "name": "D_C_scores",
       "version": 1
      }
     },
     "metadata": {
      "scrapbook": {
       "data": true,
       "display": false,
       "name": "D_C_scores"
      }
     },
     "output_type": "display_data"
    },
    {
     "data": {
      "text/plain": [
       "[1.0,\n",
       " 0.0,\n",
       " 0.12745098039215685,\n",
       " 0.8725490196078431,\n",
       " 0.896551724137931,\n",
       " 0.3969465648854962,\n",
       " 0.8703057494184114,\n",
       " 0.12745098039215685,\n",
       " 0.8669882678909097]"
      ]
     },
     "metadata": {
      "scrapbook": {
       "data": false,
       "display": true,
       "name": "D_C_scores"
      }
     },
     "output_type": "display_data"
    }
   ],
   "source": [
    "gm_opt_tnr, gm_opt_fpr, gm_opt_fnr, gm_opt_tpr, gm_opt_precision, gm_opt_f1, gm_opt_auc, gm_opt_min_loss, gm_opt_threshold = find_optimal(\n",
    "                                                                                                        gm_opt_fprs,gm_opt_tprs, gm_opt_thds)\n",
    "\n",
    "sb.glue('D_C_scores',[gm_opt_tnr, gm_opt_fpr, gm_opt_fnr, gm_opt_tpr, gm_opt_precision, gm_opt_f1, gm_opt_auc, gm_opt_min_loss, gm_opt_threshold], display=True)"
   ]
  },
  {
   "cell_type": "markdown",
   "metadata": {},
   "source": [
    "also please save the ROC plot"
   ]
  },
  {
   "cell_type": "code",
   "execution_count": 200,
   "metadata": {},
   "outputs": [
    {
     "data": {
      "image/png": "[encoded data removed]",
      "text/plain": [
       "<Figure size 576x576 with 1 Axes>"
      ]
     },
     "metadata": {
      "needs_background": "light"
     },
     "output_type": "display_data"
    }
   ],
   "source": [
    "fig, ax = plt.subplots(figsize=(8,8))\n",
    "#plot ROCs\n",
    "ax.plot([0, 1], [0, 1])\n",
    "\n",
    "ax.plot(g_fprs, g_tprs, label=\"MGD\");\n",
    "ax.plot(roc[0],roc[1], label=\"QDA\");\n",
    "ax.plot(gm_opt_fprs, gm_opt_tprs, label=\"OPT\".format('gm', gm_opt_auc))\n",
    "\n",
    "ax.scatter([fpr],[tpr])\n",
    "ax.scatter([ gm_fpr],[gm_tpr])\n",
    "ax.scatter([gm_opt_fpr], [gm_opt_tpr])\n",
    "\n",
    "ax.legend()\n",
    "sb.glue('D_ROC',fig, \"display\", display=False)"
   ]
  }
 ],
 "metadata": {
  "kernelspec": {
   "display_name": "Python 3",
   "language": "python",
   "name": "python3"
  },
  "language_info": {
   "codemirror_mode": {
    "name": "ipython",
    "version": 3
   },
   "file_extension": ".py",
   "mimetype": "text/x-python",
   "name": "python",
   "nbconvert_exporter": "python",
   "pygments_lexer": "ipython3",
   "version": "3.9.4"
  }
 },
 "nbformat": 4,
 "nbformat_minor": 4
}
