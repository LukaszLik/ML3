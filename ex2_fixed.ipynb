{
 "cells": [
  {
   "cell_type": "markdown",
   "id": "noted-alignment",
   "metadata": {},
   "source": [
    "# Skin segmentation "
   ]
  },
  {
   "cell_type": "markdown",
   "id": "perceived-european",
   "metadata": {},
   "source": [
    "In this assignement you will train classifier to assign colors to skin or no skin classes. The data is taken from [Skin Segmentation Data Set](http://archive.ics.uci.edu/ml/datasets/Skin+Segmentation#) in the UCI Machine Learning repository."
   ]
  },
  {
   "cell_type": "markdown",
   "id": "strong-tracy",
   "metadata": {},
   "source": [
    "The  data is in a plain text format and contains four columns. First three contain RGB color data  represented as integers in the range 0-255, and the last column is an integer label  with 1 representing skin and 2 representing no skin. This file we can load directly into a numpy array:"
   ]
  },
  {
   "cell_type": "markdown",
   "id": "extensive-section",
   "metadata": {},
   "source": [
    "You have to install the [scrapbook](https://github.com/nteract/scrapbook) module before using this notebook.  This will help me to automatically scan notebooks  using [papermill](https://github.com/nteract/papermill) module :) "
   ]
  },
  {
   "cell_type": "code",
   "execution_count": 28,
   "id": "becoming-norfolk",
   "metadata": {},
   "outputs": [],
   "source": [
    "import numpy as np\n",
    "import scrapbook as sb\n",
    "import matplotlib.pyplot as plt\n",
    "import pandas as pd"
   ]
  },
  {
   "cell_type": "markdown",
   "id": "southeast-bunny",
   "metadata": {},
   "source": [
    "Please fill your firstname and name in the cell below."
   ]
  },
  {
   "cell_type": "code",
   "execution_count": 29,
   "id": "minor-namibia",
   "metadata": {},
   "outputs": [
    {
     "data": {
      "application/scrapbook.scrap.json+json": {
       "data": [
        "Łukasz",
        "Lik"
       ],
       "encoder": "json",
       "name": "person1",
       "version": 1
      }
     },
     "metadata": {
      "scrapbook": {
       "data": true,
       "display": false,
       "name": "person1"
      }
     },
     "output_type": "display_data"
    },
    {
     "data": {
      "text/plain": [
       "['Łukasz', 'Lik']"
      ]
     },
     "metadata": {
      "scrapbook": {
       "data": false,
       "display": true,
       "name": "person1"
      }
     },
     "output_type": "display_data"
    }
   ],
   "source": [
    "sb.glue('person1',['Łukasz', 'Lik'], display=True)"
   ]
  },
  {
   "cell_type": "code",
   "execution_count": 30,
   "id": "encouraging-breath",
   "metadata": {},
   "outputs": [],
   "source": [
    "data = np.loadtxt('data/Skin_NonSkin.txt')"
   ]
  },
  {
   "cell_type": "code",
   "execution_count": 31,
   "id": "piano-resolution",
   "metadata": {},
   "outputs": [
    {
     "name": "stdout",
     "output_type": "stream",
     "text": [
      "[[ 74.  85. 123.]\n",
      " [ 73.  84. 122.]\n",
      " [ 72.  83. 121.]\n",
      " ...\n",
      " [163. 162. 112.]\n",
      " [163. 162. 112.]\n",
      " [255. 255. 255.]]\n",
      "----\n",
      "[1 1 1 ... 2 2 2]\n"
     ]
    }
   ],
   "source": [
    "rgb  = data[:,:3]\n",
    "lbl = data[:,3].astype('int32') # some function expect labels to be integers\n",
    "print (rgb)\n",
    "print(\"----\")\n",
    "print(lbl)"
   ]
  },
  {
   "cell_type": "markdown",
   "id": "hollow-electric",
   "metadata": {},
   "source": [
    "We see that the classes are not balanced:"
   ]
  },
  {
   "cell_type": "code",
   "execution_count": 32,
   "id": "electronic-carrier",
   "metadata": {},
   "outputs": [
    {
     "data": {
      "text/plain": [
       "array([     0,  50859, 194198])"
      ]
     },
     "execution_count": 32,
     "metadata": {},
     "output_type": "execute_result"
    }
   ],
   "source": [
    "np.bincount(lbl)"
   ]
  },
  {
   "cell_type": "markdown",
   "id": "vocal-botswana",
   "metadata": {},
   "source": [
    "## Problem 1 "
   ]
  },
  {
   "cell_type": "markdown",
   "id": "printable-stand",
   "metadata": {},
   "source": [
    "Compare the performance of the QuadraticDiscriminantAnalysis, LinearDiscriminativeAnalysis and NaiveBayes classifiers on this set. Use the `sklearn` library when needed. Compare the confusion matrices (tnr,  fnr,fpr,tpr), precision and f1_ score and auc_score, as well ROC curves. Prepare a summary table with all the numerical scores one row per classifier and one column per metric (use pandas.DataFame). Plot all  ROC curves on the same plot and label them accordingly. Assume that skin is positive and non-skin negative. "
   ]
  },
  {
   "cell_type": "markdown",
   "id": "stable-dependence",
   "metadata": {},
   "source": [
    "__Hint__ as you will be repeating this,  it's probably a good idea  to write a python function that does all the analysis. "
   ]
  },
  {
   "cell_type": "code",
   "execution_count": 33,
   "id": "unable-member",
   "metadata": {},
   "outputs": [],
   "source": [
    "from sklearn.model_selection import train_test_split\n",
    "from sklearn.metrics import roc_curve, roc_auc_score, confusion_matrix, precision_score, f1_score\n",
    "from sklearn.model_selection import train_test_split\n",
    "from sklearn.discriminant_analysis import QuadraticDiscriminantAnalysis, LinearDiscriminantAnalysis\n",
    "from sklearn.naive_bayes import GaussianNB\n",
    "from colorsys import rgb_to_hsv"
   ]
  },
  {
   "cell_type": "code",
   "execution_count": 34,
   "id": "be13be80-127b-4f36-bbb1-e92296632f50",
   "metadata": {},
   "outputs": [],
   "source": [
    "def analize(cls, name, train_X, train_Y, test_X, test_Y):\n",
    "    cls.fit(train_X, train_Y)\n",
    "    test_pred = cls.predict(test_X)\n",
    "    test_proba = cls.predict_proba(test_X)[:,1]\n",
    "    \n",
    "    tnr, fpr, fnr, tpr = confusion_matrix(test_Y, test_pred, normalize='true').ravel()\n",
    "    precision =  precision_score(test_Y, test_pred)\n",
    "    f1 = f1_score(test_Y, test_pred)\n",
    "    auc = roc_auc_score(test_Y, test_proba)\n",
    "    fprs, tprs, thds = roc_curve(test_Y, test_proba)\n",
    "    \n",
    "    return  pd.DataFrame({'tnr':[tnr], 'fpr':[fpr], 'fnr':[fnr],\n",
    "                          'tpr':[tpr], 'precision' : [precision],\n",
    "                          'f1' :[f1],'auc' :[auc]\n",
    "                           }, index=[name]), fprs, tprs, thds"
   ]
  },
  {
   "cell_type": "code",
   "execution_count": 35,
   "id": "competent-witness",
   "metadata": {},
   "outputs": [
    {
     "name": "stdout",
     "output_type": "stream",
     "text": [
      "GNB:\n"
     ]
    },
    {
     "data": {
      "application/scrapbook.scrap.json+json": {
       "data": [
        0.9731997107139168,
        0.026800289286083273,
        0.2648018648018648,
        0.7351981351981351,
        0.8794497629891254,
        0.8008802742392823,
        0.9419197996158426
       ],
       "encoder": "json",
       "name": "gnb",
       "version": 1
      }
     },
     "metadata": {
      "scrapbook": {
       "data": true,
       "display": false,
       "name": "gnb"
      }
     },
     "output_type": "display_data"
    },
    {
     "data": {
      "text/plain": [
       "[0.9731997107139168,\n",
       " 0.026800289286083273,\n",
       " 0.2648018648018648,\n",
       " 0.7351981351981351,\n",
       " 0.8794497629891254,\n",
       " 0.8008802742392823,\n",
       " 0.9419197996158426]"
      ]
     },
     "metadata": {
      "scrapbook": {
       "data": false,
       "display": true,
       "name": "gnb"
      }
     },
     "output_type": "display_data"
    },
    {
     "name": "stdout",
     "output_type": "stream",
     "text": [
      "\n",
      "\n",
      "\n",
      "LDA:\n"
     ]
    },
    {
     "data": {
      "application/scrapbook.scrap.json+json": {
       "data": [
        0.9389193098460584,
        0.061080690153941526,
        0.09432789432789433,
        0.9056721056721057,
        0.7977005201204489,
        0.8482643184629939,
        0.9473069798495979
       ],
       "encoder": "json",
       "name": "lda",
       "version": 1
      }
     },
     "metadata": {
      "scrapbook": {
       "data": true,
       "display": false,
       "name": "lda"
      }
     },
     "output_type": "display_data"
    },
    {
     "data": {
      "text/plain": [
       "[0.9389193098460584,\n",
       " 0.061080690153941526,\n",
       " 0.09432789432789433,\n",
       " 0.9056721056721057,\n",
       " 0.7977005201204489,\n",
       " 0.8482643184629939,\n",
       " 0.9473069798495979]"
      ]
     },
     "metadata": {
      "scrapbook": {
       "data": false,
       "display": true,
       "name": "lda"
      }
     },
     "output_type": "display_data"
    },
    {
     "name": "stdout",
     "output_type": "stream",
     "text": [
      "\n",
      "\n",
      "\n",
      "QDA:\n"
     ]
    },
    {
     "data": {
      "application/scrapbook.scrap.json+json": {
       "data": [
        0.9983056100836863,
        0.0016943899163136687,
        0.07420357420357421,
        0.9257964257964258,
        0.9931649579061432,
        0.9582981461374512,
        0.9995866458620876
       ],
       "encoder": "json",
       "name": "qda",
       "version": 1
      }
     },
     "metadata": {
      "scrapbook": {
       "data": true,
       "display": false,
       "name": "qda"
      }
     },
     "output_type": "display_data"
    },
    {
     "data": {
      "text/plain": [
       "[0.9983056100836863,\n",
       " 0.0016943899163136687,\n",
       " 0.07420357420357421,\n",
       " 0.9257964257964258,\n",
       " 0.9931649579061432,\n",
       " 0.9582981461374512,\n",
       " 0.9995866458620876]"
      ]
     },
     "metadata": {
      "scrapbook": {
       "data": false,
       "display": true,
       "name": "qda"
      }
     },
     "output_type": "display_data"
    }
   ],
   "source": [
    "gnb = GaussianNB()\n",
    "lda = LinearDiscriminantAnalysis()\n",
    "qda = QuadraticDiscriminantAnalysis()\n",
    "\n",
    "rocs = list()\n",
    "seed = 2139\n",
    "rgb_data, rgb_test_data, lbl_data, lbl_test_data = train_test_split(rgb, lbl, test_size=0.25, random_state=seed)\n",
    "    \n",
    "df, fprs, tprs, thds = analize(gnb, 'gnb', rgb_data, lbl_data==1, rgb_test_data, lbl_test_data==1)\n",
    "print(\"GNB:\")\n",
    "sb.glue(\"gnb\", [df['tnr'][0], df['fpr'][0], df['fnr'][0], df['tpr'][0], df['precision'][0], df['f1'][0], df['auc'][0]], display=True)\n",
    "# print(df)\n",
    "print(\"\\n\\n\")\n",
    "rocs.append((\"gnb\", fprs, tprs,thds))\n",
    "\n",
    "df, fprs, tprs, thds = analize(lda, 'lda', rgb_data, lbl_data==1, rgb_test_data, lbl_test_data==1)\n",
    "print(\"LDA:\")\n",
    "sb.glue(\"lda\", [df['tnr'][0], df['fpr'][0], df['fnr'][0], df['tpr'][0], df['precision'][0], df['f1'][0], df['auc'][0]], display=True)\n",
    "# print(df)\n",
    "print(\"\\n\\n\")\n",
    "rocs.append((\"lda\", fprs, tprs,thds))\n",
    "\n",
    "df, fprs, tprs, thds = analize(qda, 'qda', rgb_data, lbl_data==1, rgb_test_data, lbl_test_data==1)\n",
    "print(\"QDA:\")\n",
    "sb.glue(\"qda\", [df['tnr'][0], df['fpr'][0], df['fnr'][0], df['tpr'][0], df['precision'][0], df['f1'][0], df['auc'][0]], display=True)\n",
    "# print(df)\n",
    "# print(\"\\n\\n\")\n",
    "rocs.append((\"qda\", fprs, tprs,thds))"
   ]
  },
  {
   "cell_type": "code",
   "execution_count": 36,
   "id": "restricted-prairie",
   "metadata": {},
   "outputs": [
    {
     "data": {
      "image/png": "[encoded data removed]",
      "text/plain": [
       "<Figure size 720x576 with 1 Axes>"
      ]
     },
     "metadata": {
      "needs_background": "light"
     },
     "output_type": "display_data"
    }
   ],
   "source": [
    "fig, ax = plt.subplots(figsize=(10,8))\n",
    "\n",
    "for roc in rocs:\n",
    "    ax.plot(roc[1],roc[2], label=roc[0]);\n",
    "ax.legend()\n",
    "sb.glue('ROC',fig, \"display\", display=False);"
   ]
  },
  {
   "cell_type": "code",
   "execution_count": 37,
   "id": "organizational-straight",
   "metadata": {},
   "outputs": [
    {
     "data": {
      "text/plain": [
       "1.7924605295910747"
      ]
     },
     "execution_count": 37,
     "metadata": {},
     "output_type": "execute_result"
    }
   ],
   "source": [
    "lbl.sum()/len(lbl)"
   ]
  },
  {
   "cell_type": "markdown",
   "id": "flexible-contrast",
   "metadata": {},
   "source": [
    "## Problem 2"
   ]
  },
  {
   "cell_type": "markdown",
   "id": "stock-devices",
   "metadata": {},
   "source": [
    "Repeat same analysis but with RGB  data converted to Hue  Saturation Value (HSV) format. You can use the `colorsys` module for conversion. Use the scrapbook again for saving your results appending \"\\_hsv\" to variable name e.g."
   ]
  },
  {
   "cell_type": "code",
   "execution_count": 38,
   "id": "buried-locator",
   "metadata": {},
   "outputs": [
    {
     "data": {
      "application/scrapbook.scrap.json+json": {
       "data": [
        "tnr",
        "fpr",
        "fnr",
        "tpr",
        "precision",
        "f1",
        "auc"
       ],
       "encoder": "json",
       "name": "qda_hsv",
       "version": 1
      }
     },
     "metadata": {
      "scrapbook": {
       "data": true,
       "display": false,
       "name": "qda_hsv"
      }
     },
     "output_type": "display_data"
    },
    {
     "data": {
      "text/plain": [
       "['tnr', 'fpr', 'fnr', 'tpr', 'precision', 'f1', 'auc']"
      ]
     },
     "metadata": {
      "scrapbook": {
       "data": false,
       "display": true,
       "name": "qda_hsv"
      }
     },
     "output_type": "display_data"
    }
   ],
   "source": [
    "sb.glue('qda_hsv',['tnr', 'fpr', 'fnr', 'tpr', 'precision', 'f1', 'auc'], display=True)"
   ]
  },
  {
   "cell_type": "code",
   "execution_count": 39,
   "id": "toxic-purchase",
   "metadata": {},
   "outputs": [],
   "source": [
    "hsv = np.asarray([rgb_to_hsv(*row) for row in rgb]) #inneficient but it does not matter"
   ]
  },
  {
   "cell_type": "code",
   "execution_count": 40,
   "id": "coordinated-video",
   "metadata": {},
   "outputs": [
    {
     "data": {
      "text/plain": [
       "array([[6.29251701e-01, 3.98373984e-01, 1.23000000e+02],\n",
       "       [6.29251701e-01, 4.01639344e-01, 1.22000000e+02],\n",
       "       [6.29251701e-01, 4.04958678e-01, 1.21000000e+02],\n",
       "       ...,\n",
       "       [1.63398693e-01, 3.12883436e-01, 1.63000000e+02],\n",
       "       [1.63398693e-01, 3.12883436e-01, 1.63000000e+02],\n",
       "       [0.00000000e+00, 0.00000000e+00, 2.55000000e+02]])"
      ]
     },
     "execution_count": 40,
     "metadata": {},
     "output_type": "execute_result"
    }
   ],
   "source": [
    "hsv"
   ]
  },
  {
   "cell_type": "code",
   "execution_count": 41,
   "id": "considerable-humanity",
   "metadata": {},
   "outputs": [
    {
     "name": "stdout",
     "output_type": "stream",
     "text": [
      "HSV GNB:\n"
     ]
    },
    {
     "data": {
      "application/scrapbook.scrap.json+json": {
       "data": [
        0.9858043186279575,
        0.014195681372042567,
        0.00473970473970474,
        0.9952602952602952,
        0.9490960284528749,
        0.9716301297125085,
        0.9972006714686744
       ],
       "encoder": "json",
       "name": "hsv_gnb",
       "version": 1
      }
     },
     "metadata": {
      "scrapbook": {
       "data": true,
       "display": false,
       "name": "hsv_gnb"
      }
     },
     "output_type": "display_data"
    },
    {
     "data": {
      "text/plain": [
       "[0.9858043186279575,\n",
       " 0.014195681372042567,\n",
       " 0.00473970473970474,\n",
       " 0.9952602952602952,\n",
       " 0.9490960284528749,\n",
       " 0.9716301297125085,\n",
       " 0.9972006714686744]"
      ]
     },
     "metadata": {
      "scrapbook": {
       "data": false,
       "display": true,
       "name": "hsv_gnb"
      }
     },
     "output_type": "display_data"
    },
    {
     "name": "stdout",
     "output_type": "stream",
     "text": [
      "\n",
      "\n",
      "\n",
      "HSV LDA:\n"
     ]
    },
    {
     "data": {
      "application/scrapbook.scrap.json+json": {
       "data": [
        0.89308812893894,
        0.10691187106106002,
        0,
        1,
        0.7132564841498559,
        0.832632464255677,
        0.9282403954828792
       ],
       "encoder": "json",
       "name": "hsv_lda",
       "version": 1
      }
     },
     "metadata": {
      "scrapbook": {
       "data": true,
       "display": false,
       "name": "hsv_lda"
      }
     },
     "output_type": "display_data"
    },
    {
     "data": {
      "text/plain": [
       "[0.89308812893894,\n",
       " 0.10691187106106002,\n",
       " 0.0,\n",
       " 1.0,\n",
       " 0.7132564841498559,\n",
       " 0.832632464255677,\n",
       " 0.9282403954828792]"
      ]
     },
     "metadata": {
      "scrapbook": {
       "data": false,
       "display": true,
       "name": "hsv_lda"
      }
     },
     "output_type": "display_data"
    },
    {
     "name": "stdout",
     "output_type": "stream",
     "text": [
      "\n",
      "\n",
      "\n",
      "HSV QDA:\n"
     ]
    },
    {
     "data": {
      "application/scrapbook.scrap.json+json": {
       "data": [
        0.9949788201260461,
        0.005021179873953921,
        0.01181041181041181,
        0.9881895881895882,
        0.9812514466476352,
        0.9847082962332082,
        0.9994577933001323
       ],
       "encoder": "json",
       "name": "hsv_qda",
       "version": 1
      }
     },
     "metadata": {
      "scrapbook": {
       "data": true,
       "display": false,
       "name": "hsv_qda"
      }
     },
     "output_type": "display_data"
    },
    {
     "data": {
      "text/plain": [
       "[0.9949788201260461,\n",
       " 0.005021179873953921,\n",
       " 0.01181041181041181,\n",
       " 0.9881895881895882,\n",
       " 0.9812514466476352,\n",
       " 0.9847082962332082,\n",
       " 0.9994577933001323]"
      ]
     },
     "metadata": {
      "scrapbook": {
       "data": false,
       "display": true,
       "name": "hsv_qda"
      }
     },
     "output_type": "display_data"
    }
   ],
   "source": [
    "seed = 2139\n",
    "hsv_data, hsv_test_data, hsv_lbl_data, hsv_lbl_test_data = train_test_split(hsv, lbl, test_size=0.25, random_state=seed)\n",
    "hsv_rocs = list()\n",
    "\n",
    "qda = QuadraticDiscriminantAnalysis()\n",
    "lda = LinearDiscriminantAnalysis()\n",
    "gnb = GaussianNB()\n",
    "\n",
    "df, fprs, tprs, thds = analize(gnb, 'hsv gnb', hsv_data, hsv_lbl_data==1, hsv_test_data, hsv_lbl_test_data==1)\n",
    "print(\"HSV GNB:\")\n",
    "sb.glue(\"hsv_gnb\", [df['tnr'][0], df['fpr'][0], df['fnr'][0], df['tpr'][0], df['precision'][0], df['f1'][0], df['auc'][0]], display=True)\n",
    "# print(df)\n",
    "print(\"\\n\\n\")\n",
    "hsv_rocs.append((\"hsv_gnb\", fprs, tprs,thds))\n",
    "\n",
    "df, fprs, tprs, thds = analize(lda, 'hsv lda', hsv_data, hsv_lbl_data==1, hsv_test_data, hsv_lbl_test_data==1)\n",
    "print(\"HSV LDA:\")\n",
    "sb.glue(\"hsv_lda\", [df['tnr'][0], df['fpr'][0], df['fnr'][0], df['tpr'][0], df['precision'][0], df['f1'][0], df['auc'][0]], display=True)\n",
    "# print(df)\n",
    "print(\"\\n\\n\")\n",
    "hsv_rocs.append((\"hsv_lda\", fprs, tprs,thds))\n",
    "\n",
    "df, fprs, tprs, thds = analize(qda, 'hsv qda', hsv_data, hsv_lbl_data==1, hsv_test_data, hsv_lbl_test_data==1)\n",
    "print(\"HSV QDA:\")\n",
    "sb.glue(\"hsv_qda\", [df['tnr'][0], df['fpr'][0], df['fnr'][0], df['tpr'][0], df['precision'][0], df['f1'][0], df['auc'][0]], display=True)\n",
    "# print(df)\n",
    "# print(\"\\n\\n\")\n",
    "hsv_rocs.append((\"hsv_qda\", fprs, tprs,thds))"
   ]
  },
  {
   "cell_type": "code",
   "execution_count": 42,
   "id": "8538f610-281c-423e-844e-2ae7788026dc",
   "metadata": {},
   "outputs": [
    {
     "data": {
      "image/png": "[encoded data removed]",
      "text/plain": [
       "<Figure size 720x576 with 1 Axes>"
      ]
     },
     "metadata": {
      "needs_background": "light"
     },
     "output_type": "display_data"
    }
   ],
   "source": [
    "fig, ax = plt.subplots(figsize=(10,8))\n",
    "#plot ROCs\n",
    "for roc in hsv_rocs:\n",
    "    ax.plot(roc[1],roc[2], label=roc[0]);\n",
    "ax.legend()\n",
    "sb.glue('ROC_hsv',fig, \"display\", display=False);"
   ]
  }
 ],
 "metadata": {
  "jupytext": {
   "text_representation": {
    "extension": ".Rmd",
    "format_name": "rmarkdown",
    "format_version": "1.2",
    "jupytext_version": "1.11.1"
   }
  },
  "kernelspec": {
   "display_name": "Python 3",
   "language": "python",
   "name": "python3"
  },
  "language_info": {
   "codemirror_mode": {
    "name": "ipython",
    "version": 3
   },
   "file_extension": ".py",
   "mimetype": "text/x-python",
   "name": "python",
   "nbconvert_exporter": "python",
   "pygments_lexer": "ipython3",
   "version": "3.9.4"
  }
 },
 "nbformat": 4,
 "nbformat_minor": 5
}
